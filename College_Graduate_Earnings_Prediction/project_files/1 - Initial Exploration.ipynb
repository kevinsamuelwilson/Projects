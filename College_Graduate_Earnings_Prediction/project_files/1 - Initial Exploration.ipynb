{
 "cells": [
  {
   "cell_type": "code",
   "execution_count": 1,
   "metadata": {},
   "outputs": [],
   "source": [
    "from collections import defaultdict\n",
    "import re\n",
    "import matplotlib.pyplot as plt\n",
    "import numpy as np\n",
    "import pandas as pd\n",
    "#from pandas_summary import DataFrameSummary\n",
    "import pickle\n",
    "\n",
    "%matplotlib inline\n",
    "%config InlineBackend.figure_format = 'retina'"
   ]
  },
  {
   "cell_type": "markdown",
   "metadata": {},
   "source": [
    "## Create a data dictionary we can use for reference.\n",
    "\n",
    "We load `data_dict.csv` to get the meaning and data type of each column, as well as possible value-label pairings."
   ]
  },
  {
   "cell_type": "code",
   "execution_count": 2,
   "metadata": {},
   "outputs": [],
   "source": [
    "dd = pd.read_csv(\"data_dict.csv\")\n",
    "dd = dd.drop([\"NOTES\", \"SOURCE\"], axis=1)\n",
    "# clean up the column names\n",
    "dd.columns = [\"_\".join(re.split(\"-| \", col.lower())) for col in dd.columns]\n",
    "dd = dd.set_index(\"variable_name\")\n",
    "# remove all value-label info; we'll deal with that next\n",
    "data_dict = dd[~pd.isna(dd.index)].drop([\"value\", \"label\"], axis=1)"
   ]
  },
  {
   "cell_type": "code",
   "execution_count": 3,
   "metadata": {},
   "outputs": [
    {
     "data": {
      "text/plain": [
       "name_of_data_element       Unit ID for institution\n",
       "dev_category                                  root\n",
       "developer_friendly_name                         id\n",
       "api_data_type                              integer\n",
       "Name: UNITID, dtype: object"
      ]
     },
     "execution_count": 3,
     "metadata": {},
     "output_type": "execute_result"
    }
   ],
   "source": [
    "data_dict.loc['UNITID']"
   ]
  },
  {
   "cell_type": "markdown",
   "metadata": {},
   "source": [
    "## Create a mapping of integer factors to their actual meanings"
   ]
  },
  {
   "cell_type": "code",
   "execution_count": 4,
   "metadata": {},
   "outputs": [],
   "source": [
    "label_dict = defaultdict(dict)\n",
    "last_col = dd.index[0]\n",
    "for row in dd.iterrows():\n",
    "    index = row[0]\n",
    "    if pd.isna(index):\n",
    "        index = last_col\n",
    "    else:\n",
    "        last_col = index\n",
    "    if not pd.isna(row[1].value):\n",
    "        label_dict[index][row[1].value] = row[1].label"
   ]
  },
  {
   "cell_type": "code",
   "execution_count": 5,
   "metadata": {},
   "outputs": [
    {
     "data": {
      "text/plain": [
       "{0.0: 'Not classified',\n",
       " 1.0: 'Predominantly certificate-degree granting',\n",
       " 2.0: \"Predominantly associate's-degree granting\",\n",
       " 3.0: \"Predominantly bachelor's-degree granting\",\n",
       " 4.0: 'Entirely graduate-degree granting'}"
      ]
     },
     "execution_count": 5,
     "metadata": {},
     "output_type": "execute_result"
    }
   ],
   "source": [
    "label_dict['PREDDEG']"
   ]
  },
  {
   "cell_type": "markdown",
   "metadata": {},
   "source": [
    "## First attept of choosing candidate columns"
   ]
  },
  {
   "cell_type": "code",
   "execution_count": 6,
   "metadata": {},
   "outputs": [],
   "source": [
    "cols = [\n",
    "    \"UNITID\",  # maybe concatenate with year\n",
    "    \"INSTNM\",\n",
    "    \"STABBR\",\n",
    "    \"ACCREDAGENCY\",\n",
    "    \"HCM2\",\n",
    "    \"MAIN\",\n",
    "    \"NUMBRANCH\",\n",
    "    \"PREDDEG\",  # filter out 4\n",
    "    \"HIGHDEG\",  # filter out 0, 1\n",
    "    \"CONTROL\",\n",
    "    \"REGION\",  # possibly instead of state\n",
    "    \"LOCALE\",  # could backfill\n",
    "   # \"LOCALE2\",  # was blank in 2017-18\n",
    "    \"CCBASIC\",  # could backfill\n",
    "    \"CCUGPROF\",  # could backfill\n",
    "    \"CCSIZSET\",  # could backfill\n",
    "    \"HBCU\",\n",
    "    \"MENONLY\",\n",
    "    \"WOMENONLY\",\n",
    "    \"RELAFFIL\",  # could bin this\n",
    "    \"ADM_RATE\",\n",
    "    \"SATVR25\",\n",
    "    \"SATVR75\",\n",
    "    \"SATMT25\",\n",
    "    \"SATMT75\",\n",
    "    \"SATWR25\",\n",
    "    \"SATWR75\",\n",
    "    \"SATVRMID\",\n",
    "    \"SATMTMID\",\n",
    "    \"SATWRMID\",\n",
    "    \"ACTCM25\",\n",
    "    \"ACTCM75\",\n",
    "    \"ACTEN25\",\n",
    "    \"ACTEN75\",\n",
    "    \"ACTMT25\",\n",
    "    \"ACTMT75\",\n",
    "    \"ACTWR25\",\n",
    "    \"ACTWR75\",\n",
    "    \"ACTCMMID\",\n",
    "    \"ACTENMID\",\n",
    "    \"ACTMTMID\",\n",
    "    \"ACTWRMID\",\n",
    "    \"PCIP01\",\n",
    "    \"PCIP03\",\n",
    "    \"PCIP04\",\n",
    "    \"PCIP05\",\n",
    "    \"PCIP09\",\n",
    "    \"PCIP10\",\n",
    "    \"PCIP11\",\n",
    "    \"PCIP12\",\n",
    "    \"PCIP13\",\n",
    "    \"PCIP14\",\n",
    "    \"PCIP15\",\n",
    "    \"PCIP16\",\n",
    "    \"PCIP19\",\n",
    "    \"PCIP22\",\n",
    "    \"PCIP23\",\n",
    "    \"PCIP24\",\n",
    "    \"PCIP25\",\n",
    "    \"PCIP26\",\n",
    "    \"PCIP27\",\n",
    "    \"PCIP29\",\n",
    "    \"PCIP30\",\n",
    "    \"PCIP31\",\n",
    "    \"PCIP38\",\n",
    "    \"PCIP39\",\n",
    "    \"PCIP40\",\n",
    "    \"PCIP41\",\n",
    "    \"PCIP42\",\n",
    "    \"PCIP43\",\n",
    "    \"PCIP44\",\n",
    "    \"PCIP45\",\n",
    "    \"PCIP46\",\n",
    "    \"PCIP47\",\n",
    "    \"PCIP48\",\n",
    "    \"PCIP49\",\n",
    "    \"PCIP50\",\n",
    "    \"PCIP51\",\n",
    "    \"PCIP52\",\n",
    "    \"PCIP54\",\n",
    "    \"DISTANCEONLY\",\n",
    "    \"UGDS\",\n",
    "    \"PPTUG_EF\",\n",
    "    \"CURROPER\",  # filter\n",
    "    \"COSTT4_A\",  # collapse with below\n",
    "    \"COSTT4_P\",  # collapse with above\n",
    "    \"NUM4_PUB\",  # collapse with below; use as filter\n",
    "    \"NUM4_PRIV\",  # collapse with above; use as filter\n",
    "    \"TUITIONFEE_IN\",  # use as flag for \"in-state is different\"?\n",
    "    \"TUITIONFEE_OUT\",  # see above\n",
    "    \"TUITIONFEE_PROG\",  # see above\n",
    "    \"INEXPFTE\",\n",
    "    \"AVGFACSAL\",\n",
    "    \"PFTFAC\",\n",
    "    \"PCTPELL\",\n",
    "    \"C150_4\",\n",
    "    \"PCTFLOAN\",\n",
    "    \"UG25ABV\",\n",
    "    \"COMPL_RPY_1YR_RT\",\n",
    "    \"COMPL_RPY_3YR_RT\",\n",
    "    \"COMPL_RPY_5YR_RT\",\n",
    "    \"COMPL_RPY_7YR_RT\",\n",
    "    \"GRAD_DEBT_MDN\",  # potential part of target\n",
    "    \"COUNT_NWNE_P6\",  # potentially filter? /analysis\n",
    "    \"COUNT_WNE_P6\",  # see above\n",
    "    \"MN_EARN_WNE_P6\",  # target?\n",
    "    \"MD_EARN_WNE_P6\",  # target 2?\n",
    "    \"ICLEVEL\",  # potentially redundant\n",
    "    \"PRGMOFR\",\n",
    "]"
   ]
  },
  {
   "cell_type": "code",
   "execution_count": 7,
   "metadata": {},
   "outputs": [
    {
     "name": "stdout",
     "output_type": "stream",
     "text": [
      "108 candidate columns\n"
     ]
    }
   ],
   "source": [
    "print(f'{len(cols)} candidate columns')"
   ]
  },
  {
   "cell_type": "markdown",
   "metadata": {},
   "source": [
    "## Make a version of our data dictionary just for the columns we're using"
   ]
  },
  {
   "cell_type": "code",
   "execution_count": 8,
   "metadata": {},
   "outputs": [
    {
     "data": {
      "text/html": [
       "<div>\n",
       "<style scoped>\n",
       "    .dataframe tbody tr th:only-of-type {\n",
       "        vertical-align: middle;\n",
       "    }\n",
       "\n",
       "    .dataframe tbody tr th {\n",
       "        vertical-align: top;\n",
       "    }\n",
       "\n",
       "    .dataframe thead th {\n",
       "        text-align: right;\n",
       "    }\n",
       "</style>\n",
       "<table border=\"1\" class=\"dataframe\">\n",
       "  <thead>\n",
       "    <tr style=\"text-align: right;\">\n",
       "      <th></th>\n",
       "      <th>category</th>\n",
       "      <th>type</th>\n",
       "      <th>friendly_name</th>\n",
       "      <th>explanation</th>\n",
       "    </tr>\n",
       "    <tr>\n",
       "      <th>variable</th>\n",
       "      <th></th>\n",
       "      <th></th>\n",
       "      <th></th>\n",
       "      <th></th>\n",
       "    </tr>\n",
       "  </thead>\n",
       "  <tbody>\n",
       "    <tr>\n",
       "      <td>UNITID</td>\n",
       "      <td>root</td>\n",
       "      <td>integer</td>\n",
       "      <td>id</td>\n",
       "      <td>Unit ID for institution</td>\n",
       "    </tr>\n",
       "    <tr>\n",
       "      <td>INSTNM</td>\n",
       "      <td>school</td>\n",
       "      <td>autocomplete</td>\n",
       "      <td>name</td>\n",
       "      <td>Institution name</td>\n",
       "    </tr>\n",
       "    <tr>\n",
       "      <td>STABBR</td>\n",
       "      <td>school</td>\n",
       "      <td>string</td>\n",
       "      <td>state</td>\n",
       "      <td>State postcode</td>\n",
       "    </tr>\n",
       "    <tr>\n",
       "      <td>ACCREDAGENCY</td>\n",
       "      <td>school</td>\n",
       "      <td>string</td>\n",
       "      <td>accreditor</td>\n",
       "      <td>Accreditor for institution</td>\n",
       "    </tr>\n",
       "    <tr>\n",
       "      <td>HCM2</td>\n",
       "      <td>school</td>\n",
       "      <td>integer</td>\n",
       "      <td>under_investigation</td>\n",
       "      <td>Schools that are on Heightened Cash Monitoring...</td>\n",
       "    </tr>\n",
       "  </tbody>\n",
       "</table>\n",
       "</div>"
      ],
      "text/plain": [
       "             category          type        friendly_name  \\\n",
       "variable                                                   \n",
       "UNITID           root       integer                   id   \n",
       "INSTNM         school  autocomplete                 name   \n",
       "STABBR         school        string                state   \n",
       "ACCREDAGENCY   school        string           accreditor   \n",
       "HCM2           school       integer  under_investigation   \n",
       "\n",
       "                                                    explanation  \n",
       "variable                                                         \n",
       "UNITID                                  Unit ID for institution  \n",
       "INSTNM                                         Institution name  \n",
       "STABBR                                           State postcode  \n",
       "ACCREDAGENCY                         Accreditor for institution  \n",
       "HCM2          Schools that are on Heightened Cash Monitoring...  "
      ]
     },
     "execution_count": 8,
     "metadata": {},
     "output_type": "execute_result"
    }
   ],
   "source": [
    "df_cols = pd.DataFrame(cols)\n",
    "df_cols.columns = [\"variable\"]\n",
    "df_cols[\"category\"] = df_cols.variable.apply(lambda x: data_dict.loc[x, \"dev_category\"])\n",
    "df_cols[\"type\"] = df_cols.variable.apply(lambda x: data_dict.loc[x, \"api_data_type\"])\n",
    "df_cols[\"friendly_name\"] = df_cols.variable.apply(\n",
    "    lambda x: data_dict.loc[x, \"developer_friendly_name\"]\n",
    ")\n",
    "df_cols[\"explanation\"] = df_cols.variable.apply(\n",
    "    lambda x: data_dict.loc[x, \"name_of_data_element\"]\n",
    ")\n",
    "df_cols.set_index(\"variable\", inplace=True)\n",
    "df_cols.head()"
   ]
  },
  {
   "cell_type": "markdown",
   "metadata": {},
   "source": [
    "## Ingest Data"
   ]
  },
  {
   "cell_type": "code",
   "execution_count": 9,
   "metadata": {},
   "outputs": [
    {
     "name": "stdout",
     "output_type": "stream",
     "text": [
      "loading data/MERGED2001_02_PP.csv\n",
      "loading data/MERGED2002_03_PP.csv\n",
      "loading data/MERGED2003_04_PP.csv\n",
      "loading data/MERGED2004_05_PP.csv\n",
      "loading data/MERGED2005_06_PP.csv\n",
      "loading data/MERGED2006_07_PP.csv\n",
      "loading data/MERGED2007_08_PP.csv\n",
      "loading data/MERGED2008_09_PP.csv\n",
      "loading data/MERGED2009_10_PP.csv\n",
      "loading data/MERGED2010_11_PP.csv\n",
      "loading data/MERGED2011_12_PP.csv\n",
      "loading data/MERGED2012_13_PP.csv\n",
      "loading data/MERGED2013_14_PP.csv\n",
      "loading data/MERGED2014_15_PP.csv\n",
      "loading data/MERGED2015_16_PP.csv\n",
      "loading data/MERGED2016_17_PP.csv\n",
      "loading data/MERGED2017_18_PP.csv\n"
     ]
    }
   ],
   "source": [
    "dfs = dict()\n",
    "year = 2001\n",
    "while year < 2018:\n",
    "    csv_name = f\"data/MERGED{year}_{year-1999:02d}_PP.csv\"\n",
    "    print(f\"loading {csv_name}\")\n",
    "    dfs[year] = pd.read_csv(\n",
    "        csv_name, usecols=cols, na_values=[\"NU\", \"PrivacySuppressed\"]\n",
    "    )\n",
    "    dfs[year].loc[:, \"YEAR\"] = year\n",
    "    dfs[year].loc[:, \"UNITID\"] = (\n",
    "        dfs[year].loc[:, \"UNITID\"].apply(lambda x: str(x) + \"-\" + str(year))\n",
    "    )\n",
    "    year += 1"
   ]
  },
  {
   "cell_type": "markdown",
   "metadata": {},
   "source": [
    "## Drop null columns"
   ]
  },
  {
   "cell_type": "code",
   "execution_count": 10,
   "metadata": {},
   "outputs": [],
   "source": [
    "df = pd.concat(dfs.values()).set_index('UNITID')"
   ]
  },
  {
   "cell_type": "code",
   "execution_count": 11,
   "metadata": {},
   "outputs": [
    {
     "name": "stdout",
     "output_type": "stream",
     "text": [
      "0 columns dropped\n"
     ]
    },
    {
     "name": "stderr",
     "output_type": "stream",
     "text": [
      "C:\\ProgramData\\Anaconda3\\lib\\site-packages\\ipykernel_launcher.py:4: FutureWarning: \n",
      "Passing list-likes to .loc or [] with any missing label will raise\n",
      "KeyError in the future, you can use .reindex() as an alternative.\n",
      "\n",
      "See the documentation here:\n",
      "https://pandas.pydata.org/pandas-docs/stable/user_guide/indexing.html#deprecate-loc-reindex-listlike\n",
      "  after removing the cwd from sys.path.\n"
     ]
    }
   ],
   "source": [
    "old_cols = df.columns\n",
    "new_cols = df.dropna(axis=\"columns\", how=\"all\").columns\n",
    "#df = df[new_cols].set_index(\"UNITID\")\n",
    "df_cols = df_cols.loc[df.columns]\n",
    "label_dict_old = label_dict\n",
    "label_dict = {\n",
    "    key: label_dict_old[key]\n",
    "    for key in (set(df.columns).intersection(set(label_dict_old.keys())))\n",
    "}\n",
    "print(f\"{len(list(set(old_cols) - set(new_cols)))} columns dropped\")"
   ]
  },
  {
   "cell_type": "code",
   "execution_count": 12,
   "metadata": {},
   "outputs": [
    {
     "data": {
      "text/html": [
       "<div>\n",
       "<style scoped>\n",
       "    .dataframe tbody tr th:only-of-type {\n",
       "        vertical-align: middle;\n",
       "    }\n",
       "\n",
       "    .dataframe tbody tr th {\n",
       "        vertical-align: top;\n",
       "    }\n",
       "\n",
       "    .dataframe thead th {\n",
       "        text-align: right;\n",
       "    }\n",
       "</style>\n",
       "<table border=\"1\" class=\"dataframe\">\n",
       "  <thead>\n",
       "    <tr style=\"text-align: right;\">\n",
       "      <th></th>\n",
       "      <th>INSTNM</th>\n",
       "      <th>MN_EARN_WNE_P6</th>\n",
       "    </tr>\n",
       "    <tr>\n",
       "      <th>UNITID</th>\n",
       "      <th></th>\n",
       "      <th></th>\n",
       "    </tr>\n",
       "  </thead>\n",
       "  <tbody>\n",
       "    <tr>\n",
       "      <td>215123-2014</td>\n",
       "      <td>Philadelphia College of Osteopathic Medicine</td>\n",
       "      <td>151500.0</td>\n",
       "    </tr>\n",
       "    <tr>\n",
       "      <td>239169-2011</td>\n",
       "      <td>Medical College of Wisconsin</td>\n",
       "      <td>151000.0</td>\n",
       "    </tr>\n",
       "    <tr>\n",
       "      <td>207315-2009</td>\n",
       "      <td>Oklahoma State University Center for Health Sc...</td>\n",
       "      <td>142800.0</td>\n",
       "    </tr>\n",
       "    <tr>\n",
       "      <td>239169-2012</td>\n",
       "      <td>Medical College of Wisconsin</td>\n",
       "      <td>138400.0</td>\n",
       "    </tr>\n",
       "    <tr>\n",
       "      <td>239169-2013</td>\n",
       "      <td>Medical College of Wisconsin</td>\n",
       "      <td>128100.0</td>\n",
       "    </tr>\n",
       "    <tr>\n",
       "      <td>...</td>\n",
       "      <td>...</td>\n",
       "      <td>...</td>\n",
       "    </tr>\n",
       "    <tr>\n",
       "      <td>242954-2007</td>\n",
       "      <td>Modern Hairstyling Institute-Arecibo</td>\n",
       "      <td>11000.0</td>\n",
       "    </tr>\n",
       "    <tr>\n",
       "      <td>158282-2005</td>\n",
       "      <td>Bastrop Beauty School Inc</td>\n",
       "      <td>11000.0</td>\n",
       "    </tr>\n",
       "    <tr>\n",
       "      <td>241906-2012</td>\n",
       "      <td>Emma's Beauty Academy-Mayaguez</td>\n",
       "      <td>10700.0</td>\n",
       "    </tr>\n",
       "    <tr>\n",
       "      <td>242954-2009</td>\n",
       "      <td>Modern Hairstyling Institute-Arecibo</td>\n",
       "      <td>10200.0</td>\n",
       "    </tr>\n",
       "    <tr>\n",
       "      <td>154165-2011</td>\n",
       "      <td>Iowa School of Beauty-Ottumwa</td>\n",
       "      <td>9300.0</td>\n",
       "    </tr>\n",
       "  </tbody>\n",
       "</table>\n",
       "<p>47184 rows × 2 columns</p>\n",
       "</div>"
      ],
      "text/plain": [
       "                                                        INSTNM  MN_EARN_WNE_P6\n",
       "UNITID                                                                        \n",
       "215123-2014       Philadelphia College of Osteopathic Medicine        151500.0\n",
       "239169-2011                       Medical College of Wisconsin        151000.0\n",
       "207315-2009  Oklahoma State University Center for Health Sc...        142800.0\n",
       "239169-2012                       Medical College of Wisconsin        138400.0\n",
       "239169-2013                       Medical College of Wisconsin        128100.0\n",
       "...                                                        ...             ...\n",
       "242954-2007               Modern Hairstyling Institute-Arecibo         11000.0\n",
       "158282-2005                          Bastrop Beauty School Inc         11000.0\n",
       "241906-2012                     Emma's Beauty Academy-Mayaguez         10700.0\n",
       "242954-2009               Modern Hairstyling Institute-Arecibo         10200.0\n",
       "154165-2011                      Iowa School of Beauty-Ottumwa          9300.0\n",
       "\n",
       "[47184 rows x 2 columns]"
      ]
     },
     "execution_count": 12,
     "metadata": {},
     "output_type": "execute_result"
    }
   ],
   "source": [
    "top_earners = df.sort_values(\"MN_EARN_WNE_P6\", ascending=False)[\n",
    "    [\"INSTNM\", \"MN_EARN_WNE_P6\"]\n",
    "].dropna()\n",
    "top_earners"
   ]
  },
  {
   "cell_type": "code",
   "execution_count": 13,
   "metadata": {},
   "outputs": [
    {
     "data": {
      "text/plain": [
       "UNITID\n",
       "191649-2001        NaN\n",
       "191649-2002        NaN\n",
       "191649-2003    42400.0\n",
       "191649-2004        NaN\n",
       "191649-2005    42600.0\n",
       "191649-2006        NaN\n",
       "191649-2007    43500.0\n",
       "191649-2008        NaN\n",
       "191649-2009    40300.0\n",
       "191649-2010        NaN\n",
       "191649-2011    37700.0\n",
       "191649-2012    36700.0\n",
       "191649-2013    38300.0\n",
       "191649-2014    39900.0\n",
       "191649-2015        NaN\n",
       "191649-2016        NaN\n",
       "191649-2017        NaN\n",
       "Name: MD_EARN_WNE_P6, dtype: float64"
      ]
     },
     "execution_count": 13,
     "metadata": {},
     "output_type": "execute_result"
    }
   ],
   "source": [
    "df[df['INSTNM'] == 'Hofstra University']['MD_EARN_WNE_P6']"
   ]
  },
  {
   "cell_type": "code",
   "execution_count": 14,
   "metadata": {},
   "outputs": [
    {
     "data": {
      "text/html": [
       "<div>\n",
       "<style scoped>\n",
       "    .dataframe tbody tr th:only-of-type {\n",
       "        vertical-align: middle;\n",
       "    }\n",
       "\n",
       "    .dataframe tbody tr th {\n",
       "        vertical-align: top;\n",
       "    }\n",
       "\n",
       "    .dataframe thead th {\n",
       "        text-align: right;\n",
       "    }\n",
       "</style>\n",
       "<table border=\"1\" class=\"dataframe\">\n",
       "  <thead>\n",
       "    <tr style=\"text-align: right;\">\n",
       "      <th></th>\n",
       "      <th>category</th>\n",
       "      <th>type</th>\n",
       "      <th>friendly_name</th>\n",
       "      <th>explanation</th>\n",
       "    </tr>\n",
       "  </thead>\n",
       "  <tbody>\n",
       "    <tr>\n",
       "      <td>LOCALE</td>\n",
       "      <td>school</td>\n",
       "      <td>integer</td>\n",
       "      <td>locale</td>\n",
       "      <td>Locale of institution</td>\n",
       "    </tr>\n",
       "    <tr>\n",
       "      <td>CCBASIC</td>\n",
       "      <td>school</td>\n",
       "      <td>integer</td>\n",
       "      <td>carnegie_basic</td>\n",
       "      <td>Carnegie Classification -- basic</td>\n",
       "    </tr>\n",
       "    <tr>\n",
       "      <td>CCUGPROF</td>\n",
       "      <td>school</td>\n",
       "      <td>integer</td>\n",
       "      <td>carnegie_undergrad</td>\n",
       "      <td>Carnegie Classification -- undergraduate profile</td>\n",
       "    </tr>\n",
       "    <tr>\n",
       "      <td>CCSIZSET</td>\n",
       "      <td>school</td>\n",
       "      <td>integer</td>\n",
       "      <td>carnegie_size_setting</td>\n",
       "      <td>Carnegie Classification -- size and setting</td>\n",
       "    </tr>\n",
       "    <tr>\n",
       "      <td>HBCU</td>\n",
       "      <td>school</td>\n",
       "      <td>integer</td>\n",
       "      <td>minority_serving.historically_black</td>\n",
       "      <td>Flag for Historically Black College and Univer...</td>\n",
       "    </tr>\n",
       "    <tr>\n",
       "      <td>MENONLY</td>\n",
       "      <td>school</td>\n",
       "      <td>integer</td>\n",
       "      <td>men_only</td>\n",
       "      <td>Flag for men-only college</td>\n",
       "    </tr>\n",
       "    <tr>\n",
       "      <td>WOMENONLY</td>\n",
       "      <td>school</td>\n",
       "      <td>integer</td>\n",
       "      <td>women_only</td>\n",
       "      <td>Flag for women-only college</td>\n",
       "    </tr>\n",
       "    <tr>\n",
       "      <td>RELAFFIL</td>\n",
       "      <td>school</td>\n",
       "      <td>integer</td>\n",
       "      <td>religious_affiliation</td>\n",
       "      <td>Religous affiliation of the institution</td>\n",
       "    </tr>\n",
       "    <tr>\n",
       "      <td>ADM_RATE</td>\n",
       "      <td>admissions</td>\n",
       "      <td>float</td>\n",
       "      <td>admission_rate.overall</td>\n",
       "      <td>Admission rate</td>\n",
       "    </tr>\n",
       "    <tr>\n",
       "      <td>SATVR25</td>\n",
       "      <td>admissions</td>\n",
       "      <td>float</td>\n",
       "      <td>sat_scores.25th_percentile.critical_reading</td>\n",
       "      <td>25th percentile of SAT scores at the instituti...</td>\n",
       "    </tr>\n",
       "  </tbody>\n",
       "</table>\n",
       "</div>"
      ],
      "text/plain": [
       "             category     type                                friendly_name  \\\n",
       "LOCALE         school  integer                                       locale   \n",
       "CCBASIC        school  integer                               carnegie_basic   \n",
       "CCUGPROF       school  integer                           carnegie_undergrad   \n",
       "CCSIZSET       school  integer                        carnegie_size_setting   \n",
       "HBCU           school  integer          minority_serving.historically_black   \n",
       "MENONLY        school  integer                                     men_only   \n",
       "WOMENONLY      school  integer                                   women_only   \n",
       "RELAFFIL       school  integer                        religious_affiliation   \n",
       "ADM_RATE   admissions    float                       admission_rate.overall   \n",
       "SATVR25    admissions    float  sat_scores.25th_percentile.critical_reading   \n",
       "\n",
       "                                                 explanation  \n",
       "LOCALE                                 Locale of institution  \n",
       "CCBASIC                     Carnegie Classification -- basic  \n",
       "CCUGPROF    Carnegie Classification -- undergraduate profile  \n",
       "CCSIZSET         Carnegie Classification -- size and setting  \n",
       "HBCU       Flag for Historically Black College and Univer...  \n",
       "MENONLY                            Flag for men-only college  \n",
       "WOMENONLY                        Flag for women-only college  \n",
       "RELAFFIL             Religous affiliation of the institution  \n",
       "ADM_RATE                                      Admission rate  \n",
       "SATVR25    25th percentile of SAT scores at the instituti...  "
      ]
     },
     "execution_count": 14,
     "metadata": {},
     "output_type": "execute_result"
    }
   ],
   "source": [
    "i = 1\n",
    "df_cols[i * 10 : i * 10 + 10]"
   ]
  },
  {
   "cell_type": "code",
   "execution_count": 15,
   "metadata": {},
   "outputs": [],
   "source": [
    "backfill = defaultdict(dict)\n",
    "backfill_cols = [\n",
    "    \"LOCALE\",\n",
    "    \"CCBASIC\",\n",
    "    \"CCUGPROF\",\n",
    "    \"CCSIZSET\",\n",
    "    \"CURROPER\",\n",
    "    \"NUM4_PUB\",\n",
    "    \"NUM4_PRIV\",\n",
    "]\n",
    "for row in df.query(\"YEAR==2017\")[[\"INSTNM\", *backfill_cols]].iterrows():\n",
    "    for col in backfill_cols:\n",
    "        backfill[row[1][\"INSTNM\"]][col] = row[1][col]"
   ]
  },
  {
   "cell_type": "code",
   "execution_count": 16,
   "metadata": {},
   "outputs": [],
   "source": [
    "for col in backfill_cols:\n",
    "    df.loc[:, col] = df.apply(lambda x: backfill[x[\"INSTNM\"]].get(col), axis=1)"
   ]
  },
  {
   "cell_type": "code",
   "execution_count": 17,
   "metadata": {},
   "outputs": [],
   "source": [
    "#cols_drop_pre = [\"INSTNM\"]\n",
    "cols_drop_pre = []\n",
    "categorical_keys = [\n",
    "    \"STABBR\",\n",
    "    \"ACCREDAGENCY\",\n",
    "    \"PREDDEG\",\n",
    "    \"HIGHDEG\",\n",
    "    \"CONTROL\",\n",
    "    \"REGION\",\n",
    "    \"LOCALE\",\n",
    "    \"CCBASIC\",\n",
    "    \"CCUGPROF\",\n",
    "    \"CCSIZSET\",\n",
    "    \"RELAFFIL\",\n",
    "   # \"ICLEVEL\",\n",
    "]\n",
    "cols_drop_post = [\"CURROPER\", \"COSTT4_A\", \"COSTT4_P\", \"NUM4_PUB\", \"NUM4_PRIV\", \"NUM4\"]\n",
    "\n",
    "on_hold = [\n",
    "#    \"TUITIONFEE_IN\",\n",
    "#    \"TUITIONFEE_OUT\",\n",
    "#    \"TUITIONFEE_PROG\",\n",
    "    \"MN_EARN_WNE_P6\",\n",
    "    \"COUNT_NWNE_P6\",\n",
    "#    \"COUNT_WNE_P6\"\n",
    "    \"ICLEVEL\",\n",
    "]"
   ]
  },
  {
   "cell_type": "code",
   "execution_count": 18,
   "metadata": {},
   "outputs": [
    {
     "data": {
      "text/plain": [
       "48735"
      ]
     },
     "execution_count": 18,
     "metadata": {},
     "output_type": "execute_result"
    }
   ],
   "source": [
    "sum(pd.notna(df['COUNT_WNE_P6']))"
   ]
  },
  {
   "cell_type": "code",
   "execution_count": 19,
   "metadata": {},
   "outputs": [
    {
     "name": "stdout",
     "output_type": "stream",
     "text": [
      "2017    1582\n",
      "2016    1579\n",
      "2015    1578\n",
      "2014    1572\n",
      "2013    1570\n",
      "2012    1563\n",
      "2011    1560\n",
      "2009    1554\n",
      "2010    1553\n",
      "2008    1550\n",
      "2007    1550\n",
      "2006    1548\n",
      "2004    1539\n",
      "2005    1538\n",
      "2003    1536\n",
      "2002    1531\n",
      "2001    1529\n",
      "Name: YEAR, dtype: int64\n"
     ]
    }
   ],
   "source": [
    "# drop columns deemed unneeded\n",
    "X = df.drop(cols_drop_pre, axis=1)\n",
    "# must have at least 50 undergrads\n",
    "X = X.query(\"UGDS >= 50\")\n",
    "X = X.query(\"CURROPER == 1\")\n",
    "X = X.query(\"PREDDEG != 4\")\n",
    "X = X.query(\"HIGHDEG not in [0,1]\")\n",
    "X[\"COSTT4_A\"].fillna(value=X[\"COSTT4_P\"], inplace=True)\n",
    "X[\"COSTT4_P\"].fillna(value=X[\"COSTT4_A\"], inplace=True)\n",
    "X.loc[:, \"COSTT4\"] = X.loc[:, \"COSTT4_P\"]\n",
    "X[\"NUM4_PRIV\"].fillna(value=X[\"NUM4_PUB\"], inplace=True)\n",
    "X[\"NUM4_PUB\"].fillna(value=X[\"NUM4_PRIV\"], inplace=True)\n",
    "X.loc[:, \"NUM4\"] = X.loc[:, \"NUM4_PUB\"]\n",
    "X = X.query(\"NUM4 > 250\")\n",
    "X = X.drop(cols_drop_post, axis=1)\n",
    "X = X.drop(on_hold, axis=1)\n",
    "print(X.YEAR.value_counts())"
   ]
  },
  {
   "cell_type": "code",
   "execution_count": 20,
   "metadata": {},
   "outputs": [],
   "source": [
    "regions = [v.split(\"(\")[0].rstrip() for v in label_dict[\"REGION\"].values()]"
   ]
  },
  {
   "cell_type": "code",
   "execution_count": 21,
   "metadata": {},
   "outputs": [],
   "source": [
    "X[\"REGION\"] = X.REGION.apply(lambda x: label_dict[\"REGION\"][x].split(\"(\")[0])"
   ]
  },
  {
   "cell_type": "code",
   "execution_count": 22,
   "metadata": {},
   "outputs": [],
   "source": [
    "X[\"CONTROL\"] = X.CONTROL.apply(lambda x: label_dict[\"CONTROL\"][x])"
   ]
  },
  {
   "cell_type": "code",
   "execution_count": 23,
   "metadata": {},
   "outputs": [],
   "source": [
    "X[\"MAIN\"] = X.MAIN.apply(lambda x: label_dict[\"MAIN\"][x])"
   ]
  },
  {
   "cell_type": "code",
   "execution_count": 24,
   "metadata": {},
   "outputs": [],
   "source": [
    "X[\"HIGHDEG\"] = X.HIGHDEG.apply(lambda x: label_dict[\"HIGHDEG\"][x].split(\" \")[0])"
   ]
  },
  {
   "cell_type": "code",
   "execution_count": 25,
   "metadata": {},
   "outputs": [],
   "source": [
    "X[\"PREDDEG\"] = X.PREDDEG.apply(\n",
    "    lambda x: [\"not_classified\", \"certificate\", \"associate\", \"bachelor\", \"grad\"][x]\n",
    ")"
   ]
  },
  {
   "cell_type": "code",
   "execution_count": 26,
   "metadata": {},
   "outputs": [
    {
     "data": {
      "text/plain": [
       "Index(['INSTNM', 'STABBR', 'ACCREDAGENCY', 'HCM2', 'MAIN', 'NUMBRANCH',\n",
       "       'PREDDEG', 'HIGHDEG', 'CONTROL', 'REGION',\n",
       "       ...\n",
       "       'COMPL_RPY_1YR_RT', 'COMPL_RPY_3YR_RT', 'COMPL_RPY_5YR_RT',\n",
       "       'COMPL_RPY_7YR_RT', 'GRAD_DEBT_MDN', 'COUNT_WNE_P6', 'MD_EARN_WNE_P6',\n",
       "       'PRGMOFR', 'YEAR', 'COSTT4'],\n",
       "      dtype='object', length=101)"
      ]
     },
     "execution_count": 26,
     "metadata": {},
     "output_type": "execute_result"
    }
   ],
   "source": [
    "X.columns"
   ]
  },
  {
   "cell_type": "code",
   "execution_count": null,
   "metadata": {},
   "outputs": [],
   "source": []
  },
  {
   "cell_type": "code",
   "execution_count": 27,
   "metadata": {},
   "outputs": [
    {
     "ename": "NameError",
     "evalue": "name 'DataFrameSummary' is not defined",
     "output_type": "error",
     "traceback": [
      "\u001b[1;31m---------------------------------------------------------------------------\u001b[0m",
      "\u001b[1;31mNameError\u001b[0m                                 Traceback (most recent call last)",
      "\u001b[1;32m<ipython-input-27-18c05cc0ee90>\u001b[0m in \u001b[0;36m<module>\u001b[1;34m\u001b[0m\n\u001b[1;32m----> 1\u001b[1;33m \u001b[0mdf_sum\u001b[0m \u001b[1;33m=\u001b[0m \u001b[0mDataFrameSummary\u001b[0m\u001b[1;33m(\u001b[0m\u001b[0mX\u001b[0m\u001b[1;33m)\u001b[0m\u001b[1;33m\u001b[0m\u001b[1;33m\u001b[0m\u001b[0m\n\u001b[0m\u001b[0;32m      2\u001b[0m \u001b[0mdf_sum\u001b[0m\u001b[1;33m.\u001b[0m\u001b[0mcolumns_stats\u001b[0m\u001b[1;33m\u001b[0m\u001b[1;33m\u001b[0m\u001b[0m\n",
      "\u001b[1;31mNameError\u001b[0m: name 'DataFrameSummary' is not defined"
     ]
    }
   ],
   "source": [
    "df_sum = DataFrameSummary(X)\n",
    "df_sum.columns_stats"
   ]
  },
  {
   "cell_type": "code",
   "execution_count": null,
   "metadata": {},
   "outputs": [],
   "source": [
    "with open(\"raw_df.pickle\", \"wb\") as f:\n",
    "    pickle.dump(X, f)"
   ]
  },
  {
   "cell_type": "code",
   "execution_count": null,
   "metadata": {},
   "outputs": [],
   "source": []
  }
 ],
 "metadata": {
  "kernelspec": {
   "display_name": "Python 3",
   "language": "python",
   "name": "python3"
  },
  "language_info": {
   "codemirror_mode": {
    "name": "ipython",
    "version": 3
   },
   "file_extension": ".py",
   "mimetype": "text/x-python",
   "name": "python",
   "nbconvert_exporter": "python",
   "pygments_lexer": "ipython3",
   "version": "3.7.4"
  }
 },
 "nbformat": 4,
 "nbformat_minor": 4
}
