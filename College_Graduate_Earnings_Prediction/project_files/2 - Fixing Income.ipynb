{
 "cells": [
  {
   "cell_type": "code",
   "execution_count": 29,
   "metadata": {},
   "outputs": [],
   "source": [
    "import pandas as pd\n",
    "import pkg_resources\n",
    "#load pickled data\n",
    "\n",
    "import pickle\n",
    "\n",
    "data = pickle.load(open('raw_df.pickle', 'rb'))"
   ]
  },
  {
   "cell_type": "markdown",
   "metadata": {},
   "source": [
    "We have to match earnings data from certain years to school data from other years to make sure they match up. Additionally, earnings data comes in pooled 2 year averages so for those years, we will take a weighted average of the two years, weighted on the number of students in the data. Here is how the earnings data maps to the college data:\n",
    "\n",
    "|Earnings data year|College Data years|\n",
    "|---|---|\n",
    "|2009|2002, 2003|\n",
    "|2011|2004, 2005|\n",
    "|2012|2005, 2006|\n",
    "|2013|2006, 2007|\n",
    "|2014|2007, 2008|\n"
   ]
  },
  {
   "cell_type": "code",
   "execution_count": 30,
   "metadata": {},
   "outputs": [
    {
     "data": {
      "text/plain": [
       "Index(['INSTNM', 'STABBR', 'ACCREDAGENCY', 'HCM2', 'MAIN', 'NUMBRANCH',\n",
       "       'PREDDEG', 'HIGHDEG', 'CONTROL', 'REGION',\n",
       "       ...\n",
       "       'COMPL_RPY_1YR_RT', 'COMPL_RPY_3YR_RT', 'COMPL_RPY_5YR_RT',\n",
       "       'COMPL_RPY_7YR_RT', 'GRAD_DEBT_MDN', 'COUNT_WNE_P6', 'MD_EARN_WNE_P6',\n",
       "       'PRGMOFR', 'YEAR', 'COSTT4'],\n",
       "      dtype='object', length=101)"
      ]
     },
     "execution_count": 30,
     "metadata": {},
     "output_type": "execute_result"
    }
   ],
   "source": [
    "data.columns"
   ]
  },
  {
   "cell_type": "code",
   "execution_count": 28,
   "metadata": {},
   "outputs": [
    {
     "name": "stdout",
     "output_type": "stream",
     "text": [
      "(0, 101)\n",
      "(8345, 4)\n"
     ]
    }
   ],
   "source": [
    "#filter the raw data for only years we need\n",
    "college_data_years = [2002,2003,2004,2005,2006,2007,2008]\n",
    "earnings_data_years = [2009,2011,2012,2013,2014]\n",
    "college_data = data[data['YEAR'].isin(college_data_years)]\n",
    "earnings_data = data[data['YEAR'].isin(earnings_data_years)][['INSTNM','YEAR', 'COUNT_WNE_P6','MD_EARN_WNE_P6']]\n",
    "print(college_data.shape)\n",
    "print(earnings_data.shape)"
   ]
  },
  {
   "cell_type": "markdown",
   "metadata": {},
   "source": [
    "#### Inflation adjustment"
   ]
  },
  {
   "cell_type": "code",
   "execution_count": 13,
   "metadata": {},
   "outputs": [
    {
     "data": {
      "text/html": [
       "<div>\n",
       "<style scoped>\n",
       "    .dataframe tbody tr th:only-of-type {\n",
       "        vertical-align: middle;\n",
       "    }\n",
       "\n",
       "    .dataframe tbody tr th {\n",
       "        vertical-align: top;\n",
       "    }\n",
       "\n",
       "    .dataframe thead th {\n",
       "        text-align: right;\n",
       "    }\n",
       "</style>\n",
       "<table border=\"1\" class=\"dataframe\">\n",
       "  <thead>\n",
       "    <tr style=\"text-align: right;\">\n",
       "      <th></th>\n",
       "      <th>years</th>\n",
       "      <th>rates</th>\n",
       "    </tr>\n",
       "  </thead>\n",
       "  <tbody>\n",
       "    <tr>\n",
       "      <td>0</td>\n",
       "      <td>2009</td>\n",
       "      <td>1.060705</td>\n",
       "    </tr>\n",
       "    <tr>\n",
       "      <td>1</td>\n",
       "      <td>2011</td>\n",
       "      <td>1.060705</td>\n",
       "    </tr>\n",
       "    <tr>\n",
       "      <td>2</td>\n",
       "      <td>2012</td>\n",
       "      <td>1.059447</td>\n",
       "    </tr>\n",
       "    <tr>\n",
       "      <td>3</td>\n",
       "      <td>2013</td>\n",
       "      <td>1.046249</td>\n",
       "    </tr>\n",
       "    <tr>\n",
       "      <td>4</td>\n",
       "      <td>2014</td>\n",
       "      <td>1.024425</td>\n",
       "    </tr>\n",
       "  </tbody>\n",
       "</table>\n",
       "</div>"
      ],
      "text/plain": [
       "   years     rates\n",
       "0   2009  1.060705\n",
       "1   2011  1.060705\n",
       "2   2012  1.059447\n",
       "3   2013  1.046249\n",
       "4   2014  1.024425"
      ]
     },
     "execution_count": 13,
     "metadata": {},
     "output_type": "execute_result"
    }
   ],
   "source": [
    "# Inflation adjust earnings data to 2018\n",
    "year_to_adjust_to = 2018\n",
    "\n",
    "# Load CPI data obtained from U.S. Bureau of Labor Statistics\n",
    "CPI = pd.read_csv('CPI_data.csv', index_col='Year')[['Annual']]\n",
    "CPI['rate'] = (CPI.loc[year_to_adjust_to,'Annual'] / CPI['Annual'])\n",
    "\n",
    "# Some data are already adjusted per cohort map so need to decide what year to map from\n",
    "# year : year that it is already adjusted to\n",
    "CPI_rates = {'years' : [2009, 2011, 2012, 2013, 2014],\n",
    "             'rates' : [CPI.loc[2014,'rate'], \n",
    "                    CPI.loc[2014,'rate'], \n",
    "                    CPI.loc[2015,'rate'], \n",
    "                    CPI.loc[2016,'rate'],\n",
    "                    CPI.loc[2017,'rate']]\n",
    "            }\n",
    "CPI_rates = pd.DataFrame.from_dict(CPI_rates)\n",
    "# CPI_rates = CPI_rates.set_index(['years'])\n",
    "CPI_rates"
   ]
  },
  {
   "cell_type": "code",
   "execution_count": 14,
   "metadata": {},
   "outputs": [
    {
     "data": {
      "text/html": [
       "<div>\n",
       "<style scoped>\n",
       "    .dataframe tbody tr th:only-of-type {\n",
       "        vertical-align: middle;\n",
       "    }\n",
       "\n",
       "    .dataframe tbody tr th {\n",
       "        vertical-align: top;\n",
       "    }\n",
       "\n",
       "    .dataframe thead th {\n",
       "        text-align: right;\n",
       "    }\n",
       "</style>\n",
       "<table border=\"1\" class=\"dataframe\">\n",
       "  <thead>\n",
       "    <tr style=\"text-align: right;\">\n",
       "      <th></th>\n",
       "      <th>INSTNM</th>\n",
       "      <th>YEAR</th>\n",
       "      <th>COUNT_WNE_P6</th>\n",
       "      <th>MD_EARN_WNE_P6</th>\n",
       "      <th>MD_EARN_WNE_P6_unadjusted</th>\n",
       "    </tr>\n",
       "  </thead>\n",
       "  <tbody>\n",
       "    <tr>\n",
       "      <td>0</td>\n",
       "      <td>Alabama A &amp; M University</td>\n",
       "      <td>2009</td>\n",
       "      <td>1291.0</td>\n",
       "      <td>26517.618782</td>\n",
       "      <td>25000.0</td>\n",
       "    </tr>\n",
       "    <tr>\n",
       "      <td>1</td>\n",
       "      <td>University of Alabama at Birmingham</td>\n",
       "      <td>2009</td>\n",
       "      <td>2882.0</td>\n",
       "      <td>36806.454870</td>\n",
       "      <td>34700.0</td>\n",
       "    </tr>\n",
       "    <tr>\n",
       "      <td>2</td>\n",
       "      <td>University of Alabama in Huntsville</td>\n",
       "      <td>2009</td>\n",
       "      <td>1082.0</td>\n",
       "      <td>41049.273875</td>\n",
       "      <td>38700.0</td>\n",
       "    </tr>\n",
       "    <tr>\n",
       "      <td>3</td>\n",
       "      <td>Alabama State University</td>\n",
       "      <td>2009</td>\n",
       "      <td>1520.0</td>\n",
       "      <td>21850.517876</td>\n",
       "      <td>20600.0</td>\n",
       "    </tr>\n",
       "    <tr>\n",
       "      <td>4</td>\n",
       "      <td>The University of Alabama</td>\n",
       "      <td>2009</td>\n",
       "      <td>2917.0</td>\n",
       "      <td>37548.948195</td>\n",
       "      <td>35400.0</td>\n",
       "    </tr>\n",
       "    <tr>\n",
       "      <td>...</td>\n",
       "      <td>...</td>\n",
       "      <td>...</td>\n",
       "      <td>...</td>\n",
       "      <td>...</td>\n",
       "      <td>...</td>\n",
       "    </tr>\n",
       "    <tr>\n",
       "      <td>8340</td>\n",
       "      <td>Arizona State University-Skysong</td>\n",
       "      <td>2014</td>\n",
       "      <td>15223.0</td>\n",
       "      <td>39235.468750</td>\n",
       "      <td>38300.0</td>\n",
       "    </tr>\n",
       "    <tr>\n",
       "      <td>8341</td>\n",
       "      <td>Louisiana Delta Community College</td>\n",
       "      <td>2014</td>\n",
       "      <td>354.0</td>\n",
       "      <td>20898.265339</td>\n",
       "      <td>20400.0</td>\n",
       "    </tr>\n",
       "    <tr>\n",
       "      <td>8342</td>\n",
       "      <td>University of Phoenix-Arizona</td>\n",
       "      <td>2014</td>\n",
       "      <td>245947.0</td>\n",
       "      <td>29093.663512</td>\n",
       "      <td>28400.0</td>\n",
       "    </tr>\n",
       "    <tr>\n",
       "      <td>8343</td>\n",
       "      <td>University of Phoenix-California</td>\n",
       "      <td>2014</td>\n",
       "      <td>245947.0</td>\n",
       "      <td>29093.663512</td>\n",
       "      <td>28400.0</td>\n",
       "    </tr>\n",
       "    <tr>\n",
       "      <td>8344</td>\n",
       "      <td>Georgia Military College</td>\n",
       "      <td>2014</td>\n",
       "      <td>2644.0</td>\n",
       "      <td>25405.734334</td>\n",
       "      <td>24800.0</td>\n",
       "    </tr>\n",
       "  </tbody>\n",
       "</table>\n",
       "<p>8345 rows × 5 columns</p>\n",
       "</div>"
      ],
      "text/plain": [
       "                                   INSTNM  YEAR  COUNT_WNE_P6  MD_EARN_WNE_P6  \\\n",
       "0                Alabama A & M University  2009        1291.0    26517.618782   \n",
       "1     University of Alabama at Birmingham  2009        2882.0    36806.454870   \n",
       "2     University of Alabama in Huntsville  2009        1082.0    41049.273875   \n",
       "3                Alabama State University  2009        1520.0    21850.517876   \n",
       "4               The University of Alabama  2009        2917.0    37548.948195   \n",
       "...                                   ...   ...           ...             ...   \n",
       "8340     Arizona State University-Skysong  2014       15223.0    39235.468750   \n",
       "8341    Louisiana Delta Community College  2014         354.0    20898.265339   \n",
       "8342        University of Phoenix-Arizona  2014      245947.0    29093.663512   \n",
       "8343     University of Phoenix-California  2014      245947.0    29093.663512   \n",
       "8344             Georgia Military College  2014        2644.0    25405.734334   \n",
       "\n",
       "      MD_EARN_WNE_P6_unadjusted  \n",
       "0                       25000.0  \n",
       "1                       34700.0  \n",
       "2                       38700.0  \n",
       "3                       20600.0  \n",
       "4                       35400.0  \n",
       "...                         ...  \n",
       "8340                    38300.0  \n",
       "8341                    20400.0  \n",
       "8342                    28400.0  \n",
       "8343                    28400.0  \n",
       "8344                    24800.0  \n",
       "\n",
       "[8345 rows x 5 columns]"
      ]
     },
     "execution_count": 14,
     "metadata": {},
     "output_type": "execute_result"
    }
   ],
   "source": [
    "#store copy of unaltered data\n",
    "earnings_data_unaltered = earnings_data.copy()\n",
    "\n",
    "#merge CPI rates into earnings data table\n",
    "earnings_data = earnings_data.merge(CPI_rates, left_on='YEAR', right_on='years')\n",
    "earnings_data['MD_EARN_WNE_P6_unadjusted'] = earnings_data['MD_EARN_WNE_P6'] \n",
    "earnings_data['MD_EARN_WNE_P6'] = earnings_data['MD_EARN_WNE_P6'] * earnings_data['rates']\n",
    "earnings_data.drop(columns=['years','rates'])"
   ]
  },
  {
   "cell_type": "code",
   "execution_count": 24,
   "metadata": {},
   "outputs": [
    {
     "data": {
      "text/html": [
       "<div>\n",
       "<style scoped>\n",
       "    .dataframe tbody tr th:only-of-type {\n",
       "        vertical-align: middle;\n",
       "    }\n",
       "\n",
       "    .dataframe tbody tr th {\n",
       "        vertical-align: top;\n",
       "    }\n",
       "\n",
       "    .dataframe thead th {\n",
       "        text-align: right;\n",
       "    }\n",
       "</style>\n",
       "<table border=\"1\" class=\"dataframe\">\n",
       "  <thead>\n",
       "    <tr style=\"text-align: right;\">\n",
       "      <th></th>\n",
       "      <th>college_year_1</th>\n",
       "      <th>college_year_2</th>\n",
       "    </tr>\n",
       "    <tr>\n",
       "      <th>YEAR</th>\n",
       "      <th></th>\n",
       "      <th></th>\n",
       "    </tr>\n",
       "  </thead>\n",
       "  <tbody>\n",
       "    <tr>\n",
       "      <td>2009</td>\n",
       "      <td>2002</td>\n",
       "      <td>2003</td>\n",
       "    </tr>\n",
       "    <tr>\n",
       "      <td>2011</td>\n",
       "      <td>2004</td>\n",
       "      <td>2005</td>\n",
       "    </tr>\n",
       "    <tr>\n",
       "      <td>2012</td>\n",
       "      <td>2005</td>\n",
       "      <td>2006</td>\n",
       "    </tr>\n",
       "    <tr>\n",
       "      <td>2013</td>\n",
       "      <td>2006</td>\n",
       "      <td>2007</td>\n",
       "    </tr>\n",
       "    <tr>\n",
       "      <td>2014</td>\n",
       "      <td>2007</td>\n",
       "      <td>2008</td>\n",
       "    </tr>\n",
       "  </tbody>\n",
       "</table>\n",
       "</div>"
      ],
      "text/plain": [
       "      college_year_1  college_year_2\n",
       "YEAR                                \n",
       "2009            2002            2003\n",
       "2011            2004            2005\n",
       "2012            2005            2006\n",
       "2013            2006            2007\n",
       "2014            2007            2008"
      ]
     },
     "execution_count": 24,
     "metadata": {},
     "output_type": "execute_result"
    }
   ],
   "source": [
    "#put in earnings data for the years that it will map to\n",
    "# i.e. earnings data from 2009 will map to 2002 (year 1) and 2003 (year 2)\n",
    "# earnings data from 2011 will map to 2004(year 1) and 2005 (year 2)\n",
    "year_1_merge_map = {2009:2002,2011:2004,2012:2005,2013:2006,2014:2007}\n",
    "year_2_merge_map = {2009:2003,2011:2005,2012:2006,2013:2007,2014:2008}\n",
    "earnings_data['college_year_1'] = earnings_data.YEAR.map(year_1_merge_map)\n",
    "earnings_data['college_year_2'] = earnings_data.YEAR.map(year_2_merge_map)\n",
    "earnings_data.groupby('YEAR').mean()[['college_year_1', 'college_year_2']]"
   ]
  },
  {
   "cell_type": "markdown",
   "metadata": {},
   "source": [
    "I then merge college data and earnings data using pd.merge function. I merge on 'INSTNM' and then 'YEAR' (for college_data), 'college_year_1' and 'college_year_2' (for earnings data) because that seemed like the best option to merge on. I'll output statistics on how succesful the merge was.\n",
    "\n",
    "I had to do two merges, first with the first year earnings and then with the second year earnings."
   ]
  },
  {
   "cell_type": "code",
   "execution_count": 25,
   "metadata": {},
   "outputs": [
    {
     "name": "stdout",
     "output_type": "stream",
     "text": [
      "merged\n",
      "False    16690\n",
      "Name: INSTNM, dtype: int64\n"
     ]
    },
    {
     "data": {
      "text/plain": [
       "(0, 108)"
      ]
     },
     "execution_count": 25,
     "metadata": {},
     "output_type": "execute_result"
    }
   ],
   "source": [
    "cols = ['INSTNM', 'COUNT_WNE_P6', 'MD_EARN_WNE_P6', 'college_year_1', 'YEAR']\n",
    "merged_data = college_data.merge(earnings_data[cols],\n",
    "                                 how = 'outer', \n",
    "                                 left_on = ['INSTNM','YEAR'], \n",
    "                                 right_on = ['INSTNM','college_year_1'],\n",
    "                                 suffixes = ('','_year_1'),\n",
    "                                 indicator = '_merged_1')\n",
    "merged_data.groupby('YEAR').count()\n",
    "\n",
    "cols = ['INSTNM', 'COUNT_WNE_P6', 'MD_EARN_WNE_P6', 'college_year_2', 'YEAR']\n",
    "merged_data = merged_data.merge(earnings_data[cols],\n",
    "                                 how = 'outer', \n",
    "                                 left_on = ['INSTNM','YEAR'], \n",
    "                                 right_on = ['INSTNM','college_year_2'],\n",
    "                                 suffixes = ('','_year_2'),\n",
    "                                 indicator = '_merged_2')\n",
    "\n",
    "\n",
    "\n",
    "merged_data.drop(['YEAR_year_1', 'YEAR_year_2', 'college_year_1', 'college_year_2'],axis = 1, inplace = True)\n",
    "\n",
    "#Check how many entries merged at least one of the two columns\n",
    "merged_data['merged'] = merged_data.apply(lambda x: x._merged_1 == 'both' or x._merged_2 == 'both', axis = 1)\n",
    "print(merged_data.groupby('merged').count()['INSTNM'])\n",
    "\n",
    "# drop those colleges that didn't match either one\n",
    "merged_data = merged_data[merged_data['merged'] == True]\n",
    "\n",
    "merged_data.shape"
   ]
  },
  {
   "cell_type": "code",
   "execution_count": 17,
   "metadata": {},
   "outputs": [],
   "source": [
    "#Fill the 'nan' values with 0s so we can use them to do the weighted average\n",
    "columns = ['COUNT_WNE_P6_year_1', 'COUNT_WNE_P6_year_2', 'MD_EARN_WNE_P6_year_1', 'MD_EARN_WNE_P6_year_2']\n",
    "for column in columns:\n",
    "    merged_data[column].fillna(0,inplace = True)\n",
    "merged_data = merged_data[merged_data['YEAR'] != 0]\n"
   ]
  },
  {
   "cell_type": "markdown",
   "metadata": {},
   "source": [
    "Because some entries have '0' for 'count' when a median earnings value is not 0, I wrote the weighted average function logic such that, in that case, it weight both years evenly (given both years have earnings). If that is not the case, it will weight the income based on the number given by count for each year"
   ]
  },
  {
   "cell_type": "code",
   "execution_count": 18,
   "metadata": {},
   "outputs": [
    {
     "ename": "ValueError",
     "evalue": "Cannot set a frame with no defined index and a value that cannot be converted to a Series",
     "output_type": "error",
     "traceback": [
      "\u001b[1;31m---------------------------------------------------------------------------\u001b[0m",
      "\u001b[1;31mValueError\u001b[0m                                Traceback (most recent call last)",
      "\u001b[1;32mC:\\ProgramData\\Anaconda3\\lib\\site-packages\\pandas\\core\\frame.py\u001b[0m in \u001b[0;36m_ensure_valid_index\u001b[1;34m(self, value)\u001b[0m\n\u001b[0;32m   3524\u001b[0m             \u001b[1;32mtry\u001b[0m\u001b[1;33m:\u001b[0m\u001b[1;33m\u001b[0m\u001b[1;33m\u001b[0m\u001b[0m\n\u001b[1;32m-> 3525\u001b[1;33m                 \u001b[0mvalue\u001b[0m \u001b[1;33m=\u001b[0m \u001b[0mSeries\u001b[0m\u001b[1;33m(\u001b[0m\u001b[0mvalue\u001b[0m\u001b[1;33m)\u001b[0m\u001b[1;33m\u001b[0m\u001b[1;33m\u001b[0m\u001b[0m\n\u001b[0m\u001b[0;32m   3526\u001b[0m             \u001b[1;32mexcept\u001b[0m \u001b[1;33m(\u001b[0m\u001b[0mValueError\u001b[0m\u001b[1;33m,\u001b[0m \u001b[0mNotImplementedError\u001b[0m\u001b[1;33m,\u001b[0m \u001b[0mTypeError\u001b[0m\u001b[1;33m)\u001b[0m\u001b[1;33m:\u001b[0m\u001b[1;33m\u001b[0m\u001b[1;33m\u001b[0m\u001b[0m\n",
      "\u001b[1;32mC:\\ProgramData\\Anaconda3\\lib\\site-packages\\pandas\\core\\series.py\u001b[0m in \u001b[0;36m__init__\u001b[1;34m(self, data, index, dtype, name, copy, fastpath)\u001b[0m\n\u001b[0;32m    312\u001b[0m \u001b[1;33m\u001b[0m\u001b[0m\n\u001b[1;32m--> 313\u001b[1;33m                 \u001b[0mdata\u001b[0m \u001b[1;33m=\u001b[0m \u001b[0mSingleBlockManager\u001b[0m\u001b[1;33m(\u001b[0m\u001b[0mdata\u001b[0m\u001b[1;33m,\u001b[0m \u001b[0mindex\u001b[0m\u001b[1;33m,\u001b[0m \u001b[0mfastpath\u001b[0m\u001b[1;33m=\u001b[0m\u001b[1;32mTrue\u001b[0m\u001b[1;33m)\u001b[0m\u001b[1;33m\u001b[0m\u001b[1;33m\u001b[0m\u001b[0m\n\u001b[0m\u001b[0;32m    314\u001b[0m \u001b[1;33m\u001b[0m\u001b[0m\n",
      "\u001b[1;32mC:\\ProgramData\\Anaconda3\\lib\\site-packages\\pandas\\core\\internals\\managers.py\u001b[0m in \u001b[0;36m__init__\u001b[1;34m(self, block, axis, do_integrity_check, fastpath)\u001b[0m\n\u001b[0;32m   1515\u001b[0m         \u001b[1;32mif\u001b[0m \u001b[1;32mnot\u001b[0m \u001b[0misinstance\u001b[0m\u001b[1;33m(\u001b[0m\u001b[0mblock\u001b[0m\u001b[1;33m,\u001b[0m \u001b[0mBlock\u001b[0m\u001b[1;33m)\u001b[0m\u001b[1;33m:\u001b[0m\u001b[1;33m\u001b[0m\u001b[1;33m\u001b[0m\u001b[0m\n\u001b[1;32m-> 1516\u001b[1;33m             \u001b[0mblock\u001b[0m \u001b[1;33m=\u001b[0m \u001b[0mmake_block\u001b[0m\u001b[1;33m(\u001b[0m\u001b[0mblock\u001b[0m\u001b[1;33m,\u001b[0m \u001b[0mplacement\u001b[0m\u001b[1;33m=\u001b[0m\u001b[0mslice\u001b[0m\u001b[1;33m(\u001b[0m\u001b[1;36m0\u001b[0m\u001b[1;33m,\u001b[0m \u001b[0mlen\u001b[0m\u001b[1;33m(\u001b[0m\u001b[0maxis\u001b[0m\u001b[1;33m)\u001b[0m\u001b[1;33m)\u001b[0m\u001b[1;33m,\u001b[0m \u001b[0mndim\u001b[0m\u001b[1;33m=\u001b[0m\u001b[1;36m1\u001b[0m\u001b[1;33m)\u001b[0m\u001b[1;33m\u001b[0m\u001b[1;33m\u001b[0m\u001b[0m\n\u001b[0m\u001b[0;32m   1517\u001b[0m \u001b[1;33m\u001b[0m\u001b[0m\n",
      "\u001b[1;32mC:\\ProgramData\\Anaconda3\\lib\\site-packages\\pandas\\core\\internals\\blocks.py\u001b[0m in \u001b[0;36mmake_block\u001b[1;34m(values, placement, klass, ndim, dtype, fastpath)\u001b[0m\n\u001b[0;32m   3266\u001b[0m \u001b[1;33m\u001b[0m\u001b[0m\n\u001b[1;32m-> 3267\u001b[1;33m     \u001b[1;32mreturn\u001b[0m \u001b[0mklass\u001b[0m\u001b[1;33m(\u001b[0m\u001b[0mvalues\u001b[0m\u001b[1;33m,\u001b[0m \u001b[0mndim\u001b[0m\u001b[1;33m=\u001b[0m\u001b[0mndim\u001b[0m\u001b[1;33m,\u001b[0m \u001b[0mplacement\u001b[0m\u001b[1;33m=\u001b[0m\u001b[0mplacement\u001b[0m\u001b[1;33m)\u001b[0m\u001b[1;33m\u001b[0m\u001b[1;33m\u001b[0m\u001b[0m\n\u001b[0m\u001b[0;32m   3268\u001b[0m \u001b[1;33m\u001b[0m\u001b[0m\n",
      "\u001b[1;32mC:\\ProgramData\\Anaconda3\\lib\\site-packages\\pandas\\core\\internals\\blocks.py\u001b[0m in \u001b[0;36m__init__\u001b[1;34m(self, values, placement, ndim)\u001b[0m\n\u001b[0;32m   2774\u001b[0m \u001b[1;33m\u001b[0m\u001b[0m\n\u001b[1;32m-> 2775\u001b[1;33m         \u001b[0msuper\u001b[0m\u001b[1;33m(\u001b[0m\u001b[1;33m)\u001b[0m\u001b[1;33m.\u001b[0m\u001b[0m__init__\u001b[0m\u001b[1;33m(\u001b[0m\u001b[0mvalues\u001b[0m\u001b[1;33m,\u001b[0m \u001b[0mndim\u001b[0m\u001b[1;33m=\u001b[0m\u001b[0mndim\u001b[0m\u001b[1;33m,\u001b[0m \u001b[0mplacement\u001b[0m\u001b[1;33m=\u001b[0m\u001b[0mplacement\u001b[0m\u001b[1;33m)\u001b[0m\u001b[1;33m\u001b[0m\u001b[1;33m\u001b[0m\u001b[0m\n\u001b[0m\u001b[0;32m   2776\u001b[0m \u001b[1;33m\u001b[0m\u001b[0m\n",
      "\u001b[1;32mC:\\ProgramData\\Anaconda3\\lib\\site-packages\\pandas\\core\\internals\\blocks.py\u001b[0m in \u001b[0;36m__init__\u001b[1;34m(self, values, placement, ndim)\u001b[0m\n\u001b[0;32m    127\u001b[0m                 \u001b[1;34m\"Wrong number of items passed {val}, placement implies \"\u001b[0m\u001b[1;33m\u001b[0m\u001b[1;33m\u001b[0m\u001b[0m\n\u001b[1;32m--> 128\u001b[1;33m                 \u001b[1;34m\"{mgr}\"\u001b[0m\u001b[1;33m.\u001b[0m\u001b[0mformat\u001b[0m\u001b[1;33m(\u001b[0m\u001b[0mval\u001b[0m\u001b[1;33m=\u001b[0m\u001b[0mlen\u001b[0m\u001b[1;33m(\u001b[0m\u001b[0mself\u001b[0m\u001b[1;33m.\u001b[0m\u001b[0mvalues\u001b[0m\u001b[1;33m)\u001b[0m\u001b[1;33m,\u001b[0m \u001b[0mmgr\u001b[0m\u001b[1;33m=\u001b[0m\u001b[0mlen\u001b[0m\u001b[1;33m(\u001b[0m\u001b[0mself\u001b[0m\u001b[1;33m.\u001b[0m\u001b[0mmgr_locs\u001b[0m\u001b[1;33m)\u001b[0m\u001b[1;33m)\u001b[0m\u001b[1;33m\u001b[0m\u001b[1;33m\u001b[0m\u001b[0m\n\u001b[0m\u001b[0;32m    129\u001b[0m             )\n",
      "\u001b[1;31mValueError\u001b[0m: Wrong number of items passed 108, placement implies 0",
      "\nDuring handling of the above exception, another exception occurred:\n",
      "\u001b[1;31mValueError\u001b[0m                                Traceback (most recent call last)",
      "\u001b[1;32m<ipython-input-18-93d7edb6626d>\u001b[0m in \u001b[0;36m<module>\u001b[1;34m\u001b[0m\n\u001b[0;32m     24\u001b[0m                                                                          \u001b[0mx\u001b[0m\u001b[1;33m[\u001b[0m\u001b[1;34m'MD_EARN_WNE_P6_year_2'\u001b[0m\u001b[1;33m]\u001b[0m\u001b[1;33m,\u001b[0m\u001b[1;33m\u001b[0m\u001b[1;33m\u001b[0m\u001b[0m\n\u001b[0;32m     25\u001b[0m                                                                          x['COUNT_WNE_P6_year_2']),\n\u001b[1;32m---> 26\u001b[1;33m                                               axis = 1)\n\u001b[0m",
      "\u001b[1;32mC:\\ProgramData\\Anaconda3\\lib\\site-packages\\pandas\\core\\frame.py\u001b[0m in \u001b[0;36m__setitem__\u001b[1;34m(self, key, value)\u001b[0m\n\u001b[0;32m   3470\u001b[0m         \u001b[1;32melse\u001b[0m\u001b[1;33m:\u001b[0m\u001b[1;33m\u001b[0m\u001b[1;33m\u001b[0m\u001b[0m\n\u001b[0;32m   3471\u001b[0m             \u001b[1;31m# set column\u001b[0m\u001b[1;33m\u001b[0m\u001b[1;33m\u001b[0m\u001b[1;33m\u001b[0m\u001b[0m\n\u001b[1;32m-> 3472\u001b[1;33m             \u001b[0mself\u001b[0m\u001b[1;33m.\u001b[0m\u001b[0m_set_item\u001b[0m\u001b[1;33m(\u001b[0m\u001b[0mkey\u001b[0m\u001b[1;33m,\u001b[0m \u001b[0mvalue\u001b[0m\u001b[1;33m)\u001b[0m\u001b[1;33m\u001b[0m\u001b[1;33m\u001b[0m\u001b[0m\n\u001b[0m\u001b[0;32m   3473\u001b[0m \u001b[1;33m\u001b[0m\u001b[0m\n\u001b[0;32m   3474\u001b[0m     \u001b[1;32mdef\u001b[0m \u001b[0m_setitem_slice\u001b[0m\u001b[1;33m(\u001b[0m\u001b[0mself\u001b[0m\u001b[1;33m,\u001b[0m \u001b[0mkey\u001b[0m\u001b[1;33m,\u001b[0m \u001b[0mvalue\u001b[0m\u001b[1;33m)\u001b[0m\u001b[1;33m:\u001b[0m\u001b[1;33m\u001b[0m\u001b[1;33m\u001b[0m\u001b[0m\n",
      "\u001b[1;32mC:\\ProgramData\\Anaconda3\\lib\\site-packages\\pandas\\core\\frame.py\u001b[0m in \u001b[0;36m_set_item\u001b[1;34m(self, key, value)\u001b[0m\n\u001b[0;32m   3546\u001b[0m         \"\"\"\n\u001b[0;32m   3547\u001b[0m \u001b[1;33m\u001b[0m\u001b[0m\n\u001b[1;32m-> 3548\u001b[1;33m         \u001b[0mself\u001b[0m\u001b[1;33m.\u001b[0m\u001b[0m_ensure_valid_index\u001b[0m\u001b[1;33m(\u001b[0m\u001b[0mvalue\u001b[0m\u001b[1;33m)\u001b[0m\u001b[1;33m\u001b[0m\u001b[1;33m\u001b[0m\u001b[0m\n\u001b[0m\u001b[0;32m   3549\u001b[0m         \u001b[0mvalue\u001b[0m \u001b[1;33m=\u001b[0m \u001b[0mself\u001b[0m\u001b[1;33m.\u001b[0m\u001b[0m_sanitize_column\u001b[0m\u001b[1;33m(\u001b[0m\u001b[0mkey\u001b[0m\u001b[1;33m,\u001b[0m \u001b[0mvalue\u001b[0m\u001b[1;33m)\u001b[0m\u001b[1;33m\u001b[0m\u001b[1;33m\u001b[0m\u001b[0m\n\u001b[0;32m   3550\u001b[0m         \u001b[0mNDFrame\u001b[0m\u001b[1;33m.\u001b[0m\u001b[0m_set_item\u001b[0m\u001b[1;33m(\u001b[0m\u001b[0mself\u001b[0m\u001b[1;33m,\u001b[0m \u001b[0mkey\u001b[0m\u001b[1;33m,\u001b[0m \u001b[0mvalue\u001b[0m\u001b[1;33m)\u001b[0m\u001b[1;33m\u001b[0m\u001b[1;33m\u001b[0m\u001b[0m\n",
      "\u001b[1;32mC:\\ProgramData\\Anaconda3\\lib\\site-packages\\pandas\\core\\frame.py\u001b[0m in \u001b[0;36m_ensure_valid_index\u001b[1;34m(self, value)\u001b[0m\n\u001b[0;32m   3526\u001b[0m             \u001b[1;32mexcept\u001b[0m \u001b[1;33m(\u001b[0m\u001b[0mValueError\u001b[0m\u001b[1;33m,\u001b[0m \u001b[0mNotImplementedError\u001b[0m\u001b[1;33m,\u001b[0m \u001b[0mTypeError\u001b[0m\u001b[1;33m)\u001b[0m\u001b[1;33m:\u001b[0m\u001b[1;33m\u001b[0m\u001b[1;33m\u001b[0m\u001b[0m\n\u001b[0;32m   3527\u001b[0m                 raise ValueError(\n\u001b[1;32m-> 3528\u001b[1;33m                     \u001b[1;34m\"Cannot set a frame with no defined index \"\u001b[0m\u001b[1;33m\u001b[0m\u001b[1;33m\u001b[0m\u001b[0m\n\u001b[0m\u001b[0;32m   3529\u001b[0m                     \u001b[1;34m\"and a value that cannot be converted to a \"\u001b[0m\u001b[1;33m\u001b[0m\u001b[1;33m\u001b[0m\u001b[0m\n\u001b[0;32m   3530\u001b[0m                     \u001b[1;34m\"Series\"\u001b[0m\u001b[1;33m\u001b[0m\u001b[1;33m\u001b[0m\u001b[0m\n",
      "\u001b[1;31mValueError\u001b[0m: Cannot set a frame with no defined index and a value that cannot be converted to a Series"
     ]
    }
   ],
   "source": [
    "\n",
    "def weighted_average(year_1_earnings,year_1_count,year_2_earnings,year_2_count):\n",
    "    num_earnings = int(year_1_earnings != 0) + int(year_2_earnings != 0)\n",
    "    \n",
    "    if(num_earnings == 2):\n",
    "        if year_1_count ==0 or year_2_count ==0:\n",
    "            year_1_count = 1\n",
    "            year_2_count = 1\n",
    "    \n",
    "    if(num_earnings == 1):\n",
    "        if(year_1_earnings ==0):\n",
    "            return year_2_earnings\n",
    "        else: return year_1_earnings\n",
    "        \n",
    "    \n",
    "    if(num_earnings == 0):\n",
    "        return 0\n",
    "    else:\n",
    "        year_1_weight = year_1_count/(year_1_count + year_2_count)\n",
    "        year_2_weight = year_2_count/(year_1_count + year_2_count)\n",
    "        return year_1_earnings*year_1_weight + year_2_earnings*year_2_weight\n",
    "\n",
    "merged_data['MD_EARN_AVG'] = merged_data.apply(lambda x: weighted_average(x['MD_EARN_WNE_P6_year_1'],\n",
    "                                                                         x['COUNT_WNE_P6_year_1'],\n",
    "                                                                         x['MD_EARN_WNE_P6_year_2'],\n",
    "                                                                         x['COUNT_WNE_P6_year_2']),\n",
    "                                              axis = 1)"
   ]
  },
  {
   "cell_type": "code",
   "execution_count": 22,
   "metadata": {},
   "outputs": [
    {
     "data": {
      "text/plain": [
       "Series([], Name: MD_EARN_WNE_P6_year_1, dtype: float64)"
      ]
     },
     "execution_count": 22,
     "metadata": {},
     "output_type": "execute_result"
    }
   ],
   "source": [
    "# merged_data['MD_EARN_AVG'] = merged_data.apply(lambda x: weighted_average(x['MD_EARN_WNE_P6_year_1'],\n",
    "#                                                                          x['COUNT_WNE_P6_year_1'],\n",
    "#                                                                          x['MD_EARN_WNE_P6_year_2'],\n",
    "#                                                                          x['COUNT_WNE_P6_year_2']),\n",
    "#                                               axis = 1)\n",
    "\n",
    "merged_data['MD_EARN_WNE_P6_year_1']"
   ]
  },
  {
   "cell_type": "code",
   "execution_count": 12,
   "metadata": {},
   "outputs": [
    {
     "data": {
      "text/html": [
       "<div>\n",
       "<style scoped>\n",
       "    .dataframe tbody tr th:only-of-type {\n",
       "        vertical-align: middle;\n",
       "    }\n",
       "\n",
       "    .dataframe tbody tr th {\n",
       "        vertical-align: top;\n",
       "    }\n",
       "\n",
       "    .dataframe thead th {\n",
       "        text-align: right;\n",
       "    }\n",
       "</style>\n",
       "<table border=\"1\" class=\"dataframe\">\n",
       "  <thead>\n",
       "    <tr style=\"text-align: right;\">\n",
       "      <th></th>\n",
       "      <th>COUNT_WNE_P6_year_1</th>\n",
       "      <th>MD_EARN_WNE_P6_year_1</th>\n",
       "      <th>COUNT_WNE_P6_year_2</th>\n",
       "      <th>MD_EARN_WNE_P6_year_2</th>\n",
       "      <th>merged</th>\n",
       "      <th>MD_EARN_AVG</th>\n",
       "    </tr>\n",
       "    <tr>\n",
       "      <th>YEAR</th>\n",
       "      <th></th>\n",
       "      <th></th>\n",
       "      <th></th>\n",
       "      <th></th>\n",
       "      <th></th>\n",
       "      <th></th>\n",
       "    </tr>\n",
       "  </thead>\n",
       "  <tbody>\n",
       "    <tr>\n",
       "      <td>2002.0</td>\n",
       "      <td>2141.574968</td>\n",
       "      <td>33941.339037</td>\n",
       "      <td>0.000000</td>\n",
       "      <td>0.000000</td>\n",
       "      <td>True</td>\n",
       "      <td>33941.339037</td>\n",
       "    </tr>\n",
       "    <tr>\n",
       "      <td>2003.0</td>\n",
       "      <td>0.000000</td>\n",
       "      <td>0.000000</td>\n",
       "      <td>2136.429747</td>\n",
       "      <td>33899.721052</td>\n",
       "      <td>True</td>\n",
       "      <td>33899.721052</td>\n",
       "    </tr>\n",
       "    <tr>\n",
       "      <td>2004.0</td>\n",
       "      <td>2087.862944</td>\n",
       "      <td>32102.875412</td>\n",
       "      <td>0.000000</td>\n",
       "      <td>0.000000</td>\n",
       "      <td>True</td>\n",
       "      <td>32102.875412</td>\n",
       "    </tr>\n",
       "    <tr>\n",
       "      <td>2005.0</td>\n",
       "      <td>2037.943011</td>\n",
       "      <td>31989.840167</td>\n",
       "      <td>2025.607079</td>\n",
       "      <td>32006.177297</td>\n",
       "      <td>True</td>\n",
       "      <td>32041.934774</td>\n",
       "    </tr>\n",
       "    <tr>\n",
       "      <td>2006.0</td>\n",
       "      <td>2159.724508</td>\n",
       "      <td>32268.130132</td>\n",
       "      <td>2037.757901</td>\n",
       "      <td>31933.520528</td>\n",
       "      <td>True</td>\n",
       "      <td>32161.509711</td>\n",
       "    </tr>\n",
       "    <tr>\n",
       "      <td>2007.0</td>\n",
       "      <td>2438.244338</td>\n",
       "      <td>33162.180534</td>\n",
       "      <td>2166.653159</td>\n",
       "      <td>32286.497631</td>\n",
       "      <td>True</td>\n",
       "      <td>32794.609442</td>\n",
       "    </tr>\n",
       "    <tr>\n",
       "      <td>2008.0</td>\n",
       "      <td>0.000000</td>\n",
       "      <td>0.000000</td>\n",
       "      <td>2523.399496</td>\n",
       "      <td>33213.826355</td>\n",
       "      <td>True</td>\n",
       "      <td>33213.826355</td>\n",
       "    </tr>\n",
       "  </tbody>\n",
       "</table>\n",
       "</div>"
      ],
      "text/plain": [
       "        COUNT_WNE_P6_year_1  MD_EARN_WNE_P6_year_1  COUNT_WNE_P6_year_2  \\\n",
       "YEAR                                                                      \n",
       "2002.0          2141.574968           33941.339037             0.000000   \n",
       "2003.0             0.000000               0.000000          2136.429747   \n",
       "2004.0          2087.862944           32102.875412             0.000000   \n",
       "2005.0          2037.943011           31989.840167          2025.607079   \n",
       "2006.0          2159.724508           32268.130132          2037.757901   \n",
       "2007.0          2438.244338           33162.180534          2166.653159   \n",
       "2008.0             0.000000               0.000000          2523.399496   \n",
       "\n",
       "        MD_EARN_WNE_P6_year_2  merged   MD_EARN_AVG  \n",
       "YEAR                                                 \n",
       "2002.0               0.000000    True  33941.339037  \n",
       "2003.0           33899.721052    True  33899.721052  \n",
       "2004.0               0.000000    True  32102.875412  \n",
       "2005.0           32006.177297    True  32041.934774  \n",
       "2006.0           31933.520528    True  32161.509711  \n",
       "2007.0           32286.497631    True  32794.609442  \n",
       "2008.0           33213.826355    True  33213.826355  "
      ]
     },
     "execution_count": 12,
     "metadata": {},
     "output_type": "execute_result"
    }
   ],
   "source": [
    "merged_data.groupby('YEAR').mean().iloc[:,-6:]"
   ]
  },
  {
   "cell_type": "code",
   "execution_count": 13,
   "metadata": {},
   "outputs": [
    {
     "data": {
      "text/plain": [
       "Index(['PCTFLOAN', 'UG25ABV', 'COMPL_RPY_1YR_RT', 'COMPL_RPY_3YR_RT',\n",
       "       'COMPL_RPY_5YR_RT', 'COMPL_RPY_7YR_RT', 'GRAD_DEBT_MDN', 'COUNT_WNE_P6',\n",
       "       'MD_EARN_WNE_P6', 'PRGMOFR', 'YEAR', 'COSTT4', 'COUNT_WNE_P6_year_1',\n",
       "       'MD_EARN_WNE_P6_year_1', '_merged_1', 'COUNT_WNE_P6_year_2',\n",
       "       'MD_EARN_WNE_P6_year_2', '_merged_2', 'merged', 'MD_EARN_AVG'],\n",
       "      dtype='object')"
      ]
     },
     "execution_count": 13,
     "metadata": {},
     "output_type": "execute_result"
    }
   ],
   "source": [
    "merged_data.columns[-20:]"
   ]
  },
  {
   "cell_type": "code",
   "execution_count": 14,
   "metadata": {},
   "outputs": [],
   "source": [
    "#drop columns not needed for analysis\n",
    "merged_data.drop(['COUNT_WNE_P6', 'MD_EARN_WNE_P6', 'merged',\n",
    "                  'MD_EARN_WNE_P6_year_1',\n",
    "                 'MD_EARN_WNE_P6_year_2',\n",
    "                 'COUNT_WNE_P6_year_1',\n",
    "                 'COUNT_WNE_P6_year_2',\n",
    "                 '_merged_1', '_merged_2'], axis = 1, inplace = True)"
   ]
  },
  {
   "cell_type": "code",
   "execution_count": 15,
   "metadata": {},
   "outputs": [],
   "source": [
    "with open(\"merged_earnings_df.pickle\", \"wb\") as f:\n",
    "    pickle.dump(merged_data, f)"
   ]
  },
  {
   "cell_type": "code",
   "execution_count": null,
   "metadata": {},
   "outputs": [],
   "source": []
  }
 ],
 "metadata": {
  "kernelspec": {
   "display_name": "Python 3",
   "language": "python",
   "name": "python3"
  },
  "language_info": {
   "codemirror_mode": {
    "name": "ipython",
    "version": 3
   },
   "file_extension": ".py",
   "mimetype": "text/x-python",
   "name": "python",
   "nbconvert_exporter": "python",
   "pygments_lexer": "ipython3",
   "version": "3.7.4"
  }
 },
 "nbformat": 4,
 "nbformat_minor": 4
}
