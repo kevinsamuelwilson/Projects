{
 "cells": [
  {
   "cell_type": "code",
   "execution_count": null,
   "metadata": {},
   "outputs": [],
   "source": [
    "# !pip install cython\n",
    "# !pip install git+https://github.com/Refefer/fastxml # latest version on pypi isn't up to date"
   ]
  },
  {
   "cell_type": "code",
   "execution_count": 1,
   "metadata": {},
   "outputs": [],
   "source": [
    "import fastxml\n",
    "import numpy as np\n",
    "import pickle\n",
    "from sklearn.metrics import label_ranking_average_precision_score\n",
    "\n",
    "from utils import load_data"
   ]
  },
  {
   "cell_type": "code",
   "execution_count": 2,
   "metadata": {},
   "outputs": [],
   "source": [
    "train_features, train_labels, dev_features, dev_labels = load_data(\"data\")"
   ]
  },
  {
   "cell_type": "markdown",
   "metadata": {},
   "source": [
    "FastXML wants labels to be a list of lists and features to be a list of CSR matrices"
   ]
  },
  {
   "cell_type": "code",
   "execution_count": 3,
   "metadata": {},
   "outputs": [],
   "source": [
    "y_train = list(train_labels.tolil().rows)\n",
    "y_dev = list(dev_labels.tolil().rows)"
   ]
  },
  {
   "cell_type": "code",
   "execution_count": 4,
   "metadata": {},
   "outputs": [],
   "source": [
    "X_train = list(train_features.tocsr())\n",
    "X_dev = list(dev_features.tocsr())"
   ]
  },
  {
   "cell_type": "code",
   "execution_count": 6,
   "metadata": {},
   "outputs": [],
   "source": [
    "fxml_trainer = fastxml.Trainer()  # default hyperparams for now"
   ]
  },
  {
   "cell_type": "code",
   "execution_count": 7,
   "metadata": {},
   "outputs": [
    {
     "name": "stderr",
     "output_type": "stream",
     "text": [
      "/Users/danturkel/.pyenv/versions/3.8.1/lib/python3.8/site-packages/sklearn/linear_model/_stochastic_gradient.py:554: ConvergenceWarning: Maximum number of iteration reached before convergence. Consider increasing max_iter to improve the fit.\n",
      "  warnings.warn(\"Maximum number of iteration reached before \"\n"
     ]
    }
   ],
   "source": [
    "fxml_trainer.fit(X_train, y_train)\n",
    "fxml_trainer.save(\"fastxml_v0\")\n",
    "clf = fastxml.Inferencer(\"fastxml_v0\")"
   ]
  },
  {
   "cell_type": "code",
   "execution_count": 8,
   "metadata": {},
   "outputs": [],
   "source": [
    "y_hat = clf.predict(X_dev, fmt=\"sparse\")"
   ]
  },
  {
   "cell_type": "markdown",
   "metadata": {},
   "source": [
    "Performance on dev set is not good"
   ]
  },
  {
   "cell_type": "code",
   "execution_count": 9,
   "metadata": {},
   "outputs": [
    {
     "data": {
      "text/plain": [
       "0.18526724818456133"
      ]
     },
     "execution_count": 9,
     "metadata": {},
     "output_type": "execute_result"
    }
   ],
   "source": [
    "label_ranking_average_precision_score(dev_labels.toarray(), y_hat.toarray())"
   ]
  },
  {
   "cell_type": "markdown",
   "metadata": {},
   "source": [
    "As a sanity check, performance on training data:"
   ]
  },
  {
   "cell_type": "code",
   "execution_count": 10,
   "metadata": {},
   "outputs": [
    {
     "data": {
      "text/plain": [
       "0.33567487165301385"
      ]
     },
     "execution_count": 10,
     "metadata": {},
     "output_type": "execute_result"
    }
   ],
   "source": [
    "label_ranking_average_precision_score(\n",
    "    train_labels.toarray(), clf.predict(X_train, fmt=\"sparse\").toarray()\n",
    ")"
   ]
  },
  {
   "cell_type": "markdown",
   "metadata": {},
   "source": [
    "## Hyperparam Search"
   ]
  },
  {
   "cell_type": "markdown",
   "metadata": {},
   "source": [
    "There are (many) parameters on the trainer and several on the inferencer that need to be experimented with"
   ]
  },
  {
   "cell_type": "code",
   "execution_count": 90,
   "metadata": {},
   "outputs": [],
   "source": [
    "params = {\n",
    "    \"max_leaf_size\": [10, 50, 100],\n",
    "    \"max_labels_per_leaf\": [20, 50],\n",
    "    \"alpha\": [1e-5, 1e-3, 1e-1],\n",
    "    \"n_trees\": [1, 50, 100],\n",
    "    \"n_jobs\": [-1],\n",
    "}"
   ]
  },
  {
   "cell_type": "code",
   "execution_count": 91,
   "metadata": {},
   "outputs": [],
   "source": [
    "from sklearn.model_selection import ParameterGrid"
   ]
  },
  {
   "cell_type": "code",
   "execution_count": 92,
   "metadata": {},
   "outputs": [],
   "source": [
    "param_grid = ParameterGrid(params)"
   ]
  },
  {
   "cell_type": "code",
   "execution_count": 93,
   "metadata": {},
   "outputs": [],
   "source": [
    "estimators = {}"
   ]
  },
  {
   "cell_type": "code",
   "execution_count": 94,
   "metadata": {},
   "outputs": [
    {
     "name": "stdout",
     "output_type": "stream",
     "text": [
      "{'alpha': 1e-05, 'max_labels_per_leaf': 20, 'max_leaf_size': 10, 'n_jobs': -1, 'n_trees': 1}\n",
      "{'alpha': 1e-05, 'max_labels_per_leaf': 20, 'max_leaf_size': 10, 'n_jobs': -1, 'n_trees': 50}\n",
      "{'alpha': 1e-05, 'max_labels_per_leaf': 20, 'max_leaf_size': 10, 'n_jobs': -1, 'n_trees': 100}\n",
      "{'alpha': 1e-05, 'max_labels_per_leaf': 20, 'max_leaf_size': 50, 'n_jobs': -1, 'n_trees': 1}\n",
      "{'alpha': 1e-05, 'max_labels_per_leaf': 20, 'max_leaf_size': 50, 'n_jobs': -1, 'n_trees': 50}\n",
      "{'alpha': 1e-05, 'max_labels_per_leaf': 20, 'max_leaf_size': 50, 'n_jobs': -1, 'n_trees': 100}\n",
      "{'alpha': 1e-05, 'max_labels_per_leaf': 20, 'max_leaf_size': 100, 'n_jobs': -1, 'n_trees': 1}\n",
      "{'alpha': 1e-05, 'max_labels_per_leaf': 20, 'max_leaf_size': 100, 'n_jobs': -1, 'n_trees': 50}\n",
      "{'alpha': 1e-05, 'max_labels_per_leaf': 20, 'max_leaf_size': 100, 'n_jobs': -1, 'n_trees': 100}\n",
      "{'alpha': 1e-05, 'max_labels_per_leaf': 50, 'max_leaf_size': 10, 'n_jobs': -1, 'n_trees': 1}\n",
      "{'alpha': 1e-05, 'max_labels_per_leaf': 50, 'max_leaf_size': 10, 'n_jobs': -1, 'n_trees': 50}\n",
      "{'alpha': 1e-05, 'max_labels_per_leaf': 50, 'max_leaf_size': 10, 'n_jobs': -1, 'n_trees': 100}\n",
      "{'alpha': 1e-05, 'max_labels_per_leaf': 50, 'max_leaf_size': 50, 'n_jobs': -1, 'n_trees': 1}\n",
      "{'alpha': 1e-05, 'max_labels_per_leaf': 50, 'max_leaf_size': 50, 'n_jobs': -1, 'n_trees': 50}\n",
      "{'alpha': 1e-05, 'max_labels_per_leaf': 50, 'max_leaf_size': 50, 'n_jobs': -1, 'n_trees': 100}\n",
      "{'alpha': 1e-05, 'max_labels_per_leaf': 50, 'max_leaf_size': 100, 'n_jobs': -1, 'n_trees': 1}\n",
      "{'alpha': 1e-05, 'max_labels_per_leaf': 50, 'max_leaf_size': 100, 'n_jobs': -1, 'n_trees': 50}\n",
      "{'alpha': 1e-05, 'max_labels_per_leaf': 50, 'max_leaf_size': 100, 'n_jobs': -1, 'n_trees': 100}\n",
      "{'alpha': 0.001, 'max_labels_per_leaf': 20, 'max_leaf_size': 10, 'n_jobs': -1, 'n_trees': 1}\n",
      "{'alpha': 0.001, 'max_labels_per_leaf': 20, 'max_leaf_size': 10, 'n_jobs': -1, 'n_trees': 50}\n",
      "{'alpha': 0.001, 'max_labels_per_leaf': 20, 'max_leaf_size': 10, 'n_jobs': -1, 'n_trees': 100}\n",
      "{'alpha': 0.001, 'max_labels_per_leaf': 20, 'max_leaf_size': 50, 'n_jobs': -1, 'n_trees': 1}\n",
      "{'alpha': 0.001, 'max_labels_per_leaf': 20, 'max_leaf_size': 50, 'n_jobs': -1, 'n_trees': 50}\n",
      "{'alpha': 0.001, 'max_labels_per_leaf': 20, 'max_leaf_size': 50, 'n_jobs': -1, 'n_trees': 100}\n",
      "{'alpha': 0.001, 'max_labels_per_leaf': 20, 'max_leaf_size': 100, 'n_jobs': -1, 'n_trees': 1}\n",
      "{'alpha': 0.001, 'max_labels_per_leaf': 20, 'max_leaf_size': 100, 'n_jobs': -1, 'n_trees': 50}\n",
      "{'alpha': 0.001, 'max_labels_per_leaf': 20, 'max_leaf_size': 100, 'n_jobs': -1, 'n_trees': 100}\n",
      "{'alpha': 0.001, 'max_labels_per_leaf': 50, 'max_leaf_size': 10, 'n_jobs': -1, 'n_trees': 1}\n",
      "{'alpha': 0.001, 'max_labels_per_leaf': 50, 'max_leaf_size': 10, 'n_jobs': -1, 'n_trees': 50}\n",
      "{'alpha': 0.001, 'max_labels_per_leaf': 50, 'max_leaf_size': 10, 'n_jobs': -1, 'n_trees': 100}\n",
      "{'alpha': 0.001, 'max_labels_per_leaf': 50, 'max_leaf_size': 50, 'n_jobs': -1, 'n_trees': 1}\n",
      "{'alpha': 0.001, 'max_labels_per_leaf': 50, 'max_leaf_size': 50, 'n_jobs': -1, 'n_trees': 50}\n",
      "{'alpha': 0.001, 'max_labels_per_leaf': 50, 'max_leaf_size': 50, 'n_jobs': -1, 'n_trees': 100}\n",
      "{'alpha': 0.001, 'max_labels_per_leaf': 50, 'max_leaf_size': 100, 'n_jobs': -1, 'n_trees': 1}\n",
      "{'alpha': 0.001, 'max_labels_per_leaf': 50, 'max_leaf_size': 100, 'n_jobs': -1, 'n_trees': 50}\n",
      "{'alpha': 0.001, 'max_labels_per_leaf': 50, 'max_leaf_size': 100, 'n_jobs': -1, 'n_trees': 100}\n",
      "{'alpha': 0.1, 'max_labels_per_leaf': 20, 'max_leaf_size': 10, 'n_jobs': -1, 'n_trees': 1}\n",
      "{'alpha': 0.1, 'max_labels_per_leaf': 20, 'max_leaf_size': 10, 'n_jobs': -1, 'n_trees': 50}\n",
      "{'alpha': 0.1, 'max_labels_per_leaf': 20, 'max_leaf_size': 10, 'n_jobs': -1, 'n_trees': 100}\n",
      "{'alpha': 0.1, 'max_labels_per_leaf': 20, 'max_leaf_size': 50, 'n_jobs': -1, 'n_trees': 1}\n",
      "{'alpha': 0.1, 'max_labels_per_leaf': 20, 'max_leaf_size': 50, 'n_jobs': -1, 'n_trees': 50}\n",
      "{'alpha': 0.1, 'max_labels_per_leaf': 20, 'max_leaf_size': 50, 'n_jobs': -1, 'n_trees': 100}\n",
      "{'alpha': 0.1, 'max_labels_per_leaf': 20, 'max_leaf_size': 100, 'n_jobs': -1, 'n_trees': 1}\n",
      "{'alpha': 0.1, 'max_labels_per_leaf': 20, 'max_leaf_size': 100, 'n_jobs': -1, 'n_trees': 50}\n",
      "{'alpha': 0.1, 'max_labels_per_leaf': 20, 'max_leaf_size': 100, 'n_jobs': -1, 'n_trees': 100}\n",
      "{'alpha': 0.1, 'max_labels_per_leaf': 50, 'max_leaf_size': 10, 'n_jobs': -1, 'n_trees': 1}\n",
      "{'alpha': 0.1, 'max_labels_per_leaf': 50, 'max_leaf_size': 10, 'n_jobs': -1, 'n_trees': 50}\n",
      "{'alpha': 0.1, 'max_labels_per_leaf': 50, 'max_leaf_size': 10, 'n_jobs': -1, 'n_trees': 100}\n",
      "{'alpha': 0.1, 'max_labels_per_leaf': 50, 'max_leaf_size': 50, 'n_jobs': -1, 'n_trees': 1}\n",
      "{'alpha': 0.1, 'max_labels_per_leaf': 50, 'max_leaf_size': 50, 'n_jobs': -1, 'n_trees': 50}\n",
      "{'alpha': 0.1, 'max_labels_per_leaf': 50, 'max_leaf_size': 50, 'n_jobs': -1, 'n_trees': 100}\n",
      "{'alpha': 0.1, 'max_labels_per_leaf': 50, 'max_leaf_size': 100, 'n_jobs': -1, 'n_trees': 1}\n",
      "{'alpha': 0.1, 'max_labels_per_leaf': 50, 'max_leaf_size': 100, 'n_jobs': -1, 'n_trees': 50}\n",
      "{'alpha': 0.1, 'max_labels_per_leaf': 50, 'max_leaf_size': 100, 'n_jobs': -1, 'n_trees': 100}\n"
     ]
    }
   ],
   "source": [
    "for param_set in param_grid:\n",
    "    key = tuple(param_set.values())\n",
    "    print(param_set)\n",
    "    estimators[key] = fastxml.Trainer(**param_set)\n",
    "    estimators[key].fit(X_train, y_train)"
   ]
  },
  {
   "cell_type": "code",
   "execution_count": 102,
   "metadata": {},
   "outputs": [],
   "source": [
    "estimator_fns = {}"
   ]
  },
  {
   "cell_type": "code",
   "execution_count": 106,
   "metadata": {},
   "outputs": [
    {
     "data": {
      "text/plain": [
       "10"
      ]
     },
     "execution_count": 106,
     "metadata": {},
     "output_type": "execute_result"
    }
   ],
   "source": [
    "estimators[(1e-05, 20, 10, -1, 1)]"
   ]
  },
  {
   "cell_type": "code",
   "execution_count": 115,
   "metadata": {},
   "outputs": [],
   "source": [
    "i = 0\n",
    "results = {}"
   ]
  },
  {
   "cell_type": "code",
   "execution_count": 117,
   "metadata": {},
   "outputs": [],
   "source": [
    "import shutil"
   ]
  },
  {
   "cell_type": "code",
   "execution_count": 118,
   "metadata": {},
   "outputs": [
    {
     "name": "stdout",
     "output_type": "stream",
     "text": [
      "(1e-05, 20, 10, -1, 1)\n",
      "0.1849028313223925\n",
      "(1e-05, 20, 10, -1, 50)\n",
      "0.44220462618546486\n",
      "(1e-05, 20, 10, -1, 100)\n",
      "0.452127399708976\n",
      "(1e-05, 20, 50, -1, 1)\n",
      "0.2121308776574277\n",
      "(1e-05, 20, 50, -1, 50)\n",
      "0.3944658003494442\n",
      "(1e-05, 20, 50, -1, 100)\n",
      "0.4032892929318616\n",
      "(1e-05, 20, 100, -1, 1)\n",
      "0.2030716676106386\n",
      "(1e-05, 20, 100, -1, 50)\n",
      "0.36749581570362067\n",
      "(1e-05, 20, 100, -1, 100)\n",
      "0.37212391413378104\n",
      "(1e-05, 50, 10, -1, 1)\n",
      "0.18566932808801223\n",
      "(1e-05, 50, 10, -1, 50)\n",
      "0.44366768830386755\n",
      "(1e-05, 50, 10, -1, 100)\n",
      "0.45387800608261775\n",
      "(1e-05, 50, 50, -1, 1)\n",
      "0.21664849870855518\n",
      "(1e-05, 50, 50, -1, 50)\n",
      "0.398973500828358\n",
      "(1e-05, 50, 50, -1, 100)\n",
      "0.4077735034122924\n",
      "(1e-05, 50, 100, -1, 1)\n",
      "0.20992459751469103\n",
      "(1e-05, 50, 100, -1, 50)\n",
      "0.3729999619749015\n",
      "(1e-05, 50, 100, -1, 100)\n",
      "0.3774440102786261\n",
      "(0.001, 20, 10, -1, 1)\n",
      "0.18865454050519156\n",
      "(0.001, 20, 10, -1, 50)\n",
      "0.44345989493114635\n",
      "(0.001, 20, 10, -1, 100)\n",
      "0.453787867158334\n",
      "(0.001, 20, 50, -1, 1)\n",
      "0.21024357827995613\n",
      "(0.001, 20, 50, -1, 50)\n",
      "0.39405720480676093\n",
      "(0.001, 20, 50, -1, 100)\n",
      "0.4036270246395829\n",
      "(0.001, 20, 100, -1, 1)\n",
      "0.19712226302734923\n",
      "(0.001, 20, 100, -1, 50)\n",
      "0.36433443008076183\n",
      "(0.001, 20, 100, -1, 100)\n",
      "0.36960876568968665\n",
      "(0.001, 50, 10, -1, 1)\n",
      "0.1891987545627882\n",
      "(0.001, 50, 10, -1, 50)\n",
      "0.44539187955744797\n",
      "(0.001, 50, 10, -1, 100)\n",
      "0.4552619511425552\n",
      "(0.001, 50, 50, -1, 1)\n",
      "0.21483997793506432\n",
      "(0.001, 50, 50, -1, 50)\n",
      "0.39897124945787693\n",
      "(0.001, 50, 50, -1, 100)\n",
      "0.4076100116173227\n",
      "(0.001, 50, 100, -1, 1)\n",
      "0.20340841233445714\n",
      "(0.001, 50, 100, -1, 50)\n",
      "0.37004437232305804\n",
      "(0.001, 50, 100, -1, 100)\n",
      "0.3749671379503108\n",
      "(0.1, 20, 10, -1, 1)\n",
      "0.1800998773460474\n",
      "(0.1, 20, 10, -1, 50)\n",
      "0.4330109435605293\n",
      "(0.1, 20, 10, -1, 100)\n",
      "0.4451363074171603\n",
      "(0.1, 20, 50, -1, 1)\n",
      "0.18510183474271913\n",
      "(0.1, 20, 50, -1, 50)\n",
      "0.37529041159715426\n",
      "(0.1, 20, 50, -1, 100)\n",
      "0.38390679216873586\n",
      "(0.1, 20, 100, -1, 1)\n",
      "0.17208350393427996\n",
      "(0.1, 20, 100, -1, 50)\n",
      "0.34383608334795535\n",
      "(0.1, 20, 100, -1, 100)\n",
      "0.35132699068410006\n",
      "(0.1, 50, 10, -1, 1)\n",
      "0.18054353743035542\n",
      "(0.1, 50, 10, -1, 50)\n",
      "0.4341977307692806\n",
      "(0.1, 50, 10, -1, 100)\n",
      "0.4469741812953385\n",
      "(0.1, 50, 50, -1, 1)\n",
      "0.1893571256453433\n",
      "(0.1, 50, 50, -1, 50)\n",
      "0.37920009804076793\n",
      "(0.1, 50, 50, -1, 100)\n",
      "0.38738749142495077\n",
      "(0.1, 50, 100, -1, 1)\n",
      "0.17743884053165376\n",
      "(0.1, 50, 100, -1, 50)\n",
      "0.34866090860188337\n",
      "(0.1, 50, 100, -1, 100)\n",
      "0.35567240933869887\n"
     ]
    }
   ],
   "source": [
    "for k, v in estimators.items():\n",
    "    print(k)\n",
    "    v.save(f\"./fastxml_models/{i}\")\n",
    "    inf = fastxml.Inferencer(f\"./fastxml_models/{i}\")\n",
    "    y_hat = inf.predict(X_dev, fmt=\"sparse\")\n",
    "    results[k] = label_ranking_average_precision_score(\n",
    "        dev_labels.toarray(), y_hat.toarray()\n",
    "    )\n",
    "    print(results[k])\n",
    "    shutil.rmtree(f\"./fastxml_models/{i}\")\n",
    "    i = i + 1"
   ]
  },
  {
   "cell_type": "code",
   "execution_count": 119,
   "metadata": {},
   "outputs": [],
   "source": [
    "with open(\"results.pickle\", \"wb\") as f:\n",
    "    pickle.dump(results, f)"
   ]
  },
  {
   "cell_type": "code",
   "execution_count": 121,
   "metadata": {},
   "outputs": [
    {
     "data": {
      "text/plain": [
       "0.4552619511425552"
      ]
     },
     "execution_count": 121,
     "metadata": {},
     "output_type": "execute_result"
    }
   ],
   "source": [
    "max(results.values())"
   ]
  },
  {
   "cell_type": "code",
   "execution_count": null,
   "metadata": {},
   "outputs": [],
   "source": []
  }
 ],
 "metadata": {
  "kernelspec": {
   "display_name": "Python 3",
   "language": "python",
   "name": "python3"
  },
  "language_info": {
   "codemirror_mode": {
    "name": "ipython",
    "version": 3
   },
   "file_extension": ".py",
   "mimetype": "text/x-python",
   "name": "python",
   "nbconvert_exporter": "python",
   "pygments_lexer": "ipython3",
   "version": "3.8.1"
  }
 },
 "nbformat": 4,
 "nbformat_minor": 4
}
